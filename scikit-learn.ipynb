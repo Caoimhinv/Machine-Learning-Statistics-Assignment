{
 "cells": [
  {
   "cell_type": "markdown",
   "id": "7dcbce66-a062-40ed-8228-318f90e4eae4",
   "metadata": {},
   "source": [
    "# Machine Learning and Statistics Assignment \n",
    "\n",
    "## Autumn/Winter 2021\n",
    "\n",
    "---\n",
    "Part 1 - scikit-learn\n",
    "---"
   ]
  },
  {
   "cell_type": "markdown",
   "id": "59a3e2a2-be2d-4d76-8576-339d36b36634",
   "metadata": {},
   "source": [
    "<br>\n",
    "\n",
    "![scikit_logo](./Images/scikit-learn-logo.png)"
   ]
  },
  {
   "cell_type": "markdown",
   "id": "c8c62653-288b-48b9-92ff-3454d00421cf",
   "metadata": {
    "tags": []
   },
   "source": [
    "<br>\n",
    "\n",
    "### Overview of the scikit-learn Python library  \n",
    "[scikit-learn homepage](https://scikit-learn.org/stable/)"
   ]
  },
  {
   "cell_type": "markdown",
   "id": "792c3df8-6f92-43fc-9674-f055a1de198d",
   "metadata": {
    "tags": []
   },
   "source": [
    ">\"Scikit-learn is a free software machine learning library for the Python programming language. It features various classification, regression and clustering algorithms including support vector machines, random forests, gradient boosting, k-means and DBSCAN, and is designed to interoperate with the Python numerical and scientific libraries NumPy and SciPy.\" https://en.wikipedia.org/wiki/Scikit-learn"
   ]
  },
  {
   "cell_type": "markdown",
   "id": "24541ae5-cbd8-4f12-9d8b-36f7d8bee19a",
   "metadata": {},
   "source": [
    "Scikit-learn is an open source machine learning library that supports supervised and unsupervised learning. It also provides various tools for model fitting, data preprocessing, model selection and evaluation, and many other utilities. It started out life as `scikits.learn` developed by French data scientist David Cournapeau, but was rewritten and further developed and the first public release was in 2010. The name scikit comes from SciPy Toolkit."
   ]
  },
  {
   "cell_type": "markdown",
   "id": "6c50b6a5-ce3a-4c8e-a58f-8c9df24f2989",
   "metadata": {},
   "source": [
    "#### Machine learning"
   ]
  },
  {
   "cell_type": "markdown",
   "id": "9dbe6537-3b8f-4c27-a6ff-ce926f9f843d",
   "metadata": {},
   "source": [
    "Machine learning considers a set of data values and tries to predict the properties of unknown data based on what it has 'learnt'. It can be broken down into a few categories and subcategories."
   ]
  },
  {
   "cell_type": "markdown",
   "id": "be66f237-bfda-4401-81c4-37bef960b0a7",
   "metadata": {
    "tags": []
   },
   "source": [
    ">Supervised learning, in which the data comes with additional attributes that we want to predict. This problem can be either:\n",
    ">\n",
    "> - classification: samples belong to two or more classes and we want to learn from already labeled data how to predict the class of unlabeled data. \n",
    ">\n",
    "> - regression: if the desired output consists of one or more continuous variables, then the task is called regression.\n",
    ">\n",
    "> Unsupervised learning, in which the training data consists of a set of input vectors x without any corresponding target values. The goal in such problems may be to discover groups of similar examples within the data, where it is called clustering, or to determine the distribution of data within the input space, known as density estimation, or to project the data from a high-dimensional space down to two or three dimensions for the purpose of visualization.  \n",
    "https://scikit-learn.org/stable/tutorial/basic/tutorial.html#machine-learning-the-problem-setting"
   ]
  },
  {
   "cell_type": "markdown",
   "id": "e839466a-10b9-4fd2-8da1-2779b86fe06c",
   "metadata": {},
   "source": [
    "Machine learning is about learning some properties of a data set and then testing those properties against another data set. A common practice in machine learning is to evaluate an algorithm by splitting a data set into two. We call one of those sets the training set, on which we learn some properties; we call the other set the testing set, on which we test the learned properties.  \n",
    "https://scikit-learn.org/stable/tutorial/basic/tutorial.html#machine-learning-the-problem-setting"
   ]
  },
  {
   "cell_type": "markdown",
   "id": "161cc9b7-66e6-4d2f-beb0-d0ce50120aa9",
   "metadata": {
    "tags": []
   },
   "source": [
    "<br>\n",
    "Some terminology: \n",
    "\n",
    "- Classification - Identifying which category an object belongs to\n",
    "- Regression - Predicting a continuous-valued attribute associated with an object\n",
    "- Clustering - Automatic grouping of similar objects into sets\n",
    "- Dimensionality reduction - Reducing the number of random variables to consider\n",
    "- Model selection - Comparing, validating and choosing parameters and models\n",
    "- Preprocessing - Feature extraction and normalization\n",
    "\n",
    "___"
   ]
  },
  {
   "cell_type": "markdown",
   "id": "92b5ec85-5915-45e9-a192-6cff5a3bdba3",
   "metadata": {},
   "source": [
    "<br>\n",
    "\n",
    "## The Wine dataset\n",
    "___"
   ]
  },
  {
   "cell_type": "markdown",
   "id": "95edb7f7-0fbd-4090-893b-9ef70702bba4",
   "metadata": {
    "tags": []
   },
   "source": [
    "I'm going use a wine dataset I discovered online to give an overview of the package and to demonstrate some of the algorithims. It seems to be quite a popular dataset as there are many analyses already published, so I probably won't discover anything new!\n",
    "\n",
    "The dataset contains details of red and white versions of the Portuguese wine Vinho Verde."
   ]
  },
  {
   "cell_type": "markdown",
   "id": "d0627d55-34a4-49c8-9129-5eb596ec9dac",
   "metadata": {},
   "source": [
    "![vinhoVerde](Images/vinhoVerde.png)"
   ]
  },
  {
   "cell_type": "markdown",
   "id": "799481c3-7234-4247-8858-5aa3066255c6",
   "metadata": {},
   "source": [
    "We begin by importing all of the necessary libraries."
   ]
  },
  {
   "cell_type": "code",
   "execution_count": 1,
   "id": "5cfc0d35-6723-4590-b641-d074fb61c9ad",
   "metadata": {},
   "outputs": [],
   "source": [
    "# Numerical arrays\n",
    "import numpy as np\n",
    "\n",
    "# Data frames\n",
    "import pandas as pd\n",
    "\n",
    "# Plotting\n",
    "import matplotlib.pyplot as plt\n",
    "\n",
    "# Logistic regression\n",
    "import sklearn.linear_model as lm\n",
    "\n",
    "# K nearest neighbours\n",
    "import sklearn.neighbors as nei\n",
    "\n",
    "# train_test_split\n",
    "from sklearn.model_selection import train_test_split\n",
    "\n",
    "# Helper functions\n",
    "import sklearn.model_selection as mod\n",
    "\n",
    "from sklearn.preprocessing import StandardScaler\n",
    "\n",
    "# Fancier, statistical plots\n",
    "import seaborn as sns\n",
    "\n",
    "from sklearn.metrics import classification_report\n",
    "\n",
    "from sklearn.tree import DecisionTreeClassifier\n",
    "\n",
    "from sklearn.ensemble import RandomForestClassifier"
   ]
  },
  {
   "cell_type": "markdown",
   "id": "b4c80fbe-2fda-485e-b433-48397ecd60ee",
   "metadata": {},
   "source": [
    "We set a size and style for all plots."
   ]
  },
  {
   "cell_type": "code",
   "execution_count": 2,
   "id": "9fcced37-f778-418c-8cc6-32bb1d2af0dc",
   "metadata": {},
   "outputs": [],
   "source": [
    "# set global size for all plots\n",
    "plt.rcParams[\"figure.figsize\"] = (15,10)\n",
    "\n",
    "# set global style for all plots\n",
    "plt.style.use('ggplot')"
   ]
  },
  {
   "cell_type": "markdown",
   "id": "343ab140-b692-40cf-8009-da37d02157cf",
   "metadata": {},
   "source": [
    "We load in the data from a csv file with `pandas` and have a look at the first 10 rows."
   ]
  },
  {
   "cell_type": "code",
   "execution_count": 3,
   "id": "745a8d21-cc15-42e1-b4dd-ef853a67aed6",
   "metadata": {
    "scrolled": true,
    "tags": []
   },
   "outputs": [
    {
     "data": {
      "text/html": [
       "<div>\n",
       "<style scoped>\n",
       "    .dataframe tbody tr th:only-of-type {\n",
       "        vertical-align: middle;\n",
       "    }\n",
       "\n",
       "    .dataframe tbody tr th {\n",
       "        vertical-align: top;\n",
       "    }\n",
       "\n",
       "    .dataframe thead th {\n",
       "        text-align: right;\n",
       "    }\n",
       "</style>\n",
       "<table border=\"1\" class=\"dataframe\">\n",
       "  <thead>\n",
       "    <tr style=\"text-align: right;\">\n",
       "      <th></th>\n",
       "      <th>type</th>\n",
       "      <th>fixed acidity</th>\n",
       "      <th>volatile acidity</th>\n",
       "      <th>citric acid</th>\n",
       "      <th>residual sugar</th>\n",
       "      <th>chlorides</th>\n",
       "      <th>free sulfur dioxide</th>\n",
       "      <th>total sulfur dioxide</th>\n",
       "      <th>density</th>\n",
       "      <th>pH</th>\n",
       "      <th>sulphates</th>\n",
       "      <th>alcohol</th>\n",
       "      <th>quality</th>\n",
       "    </tr>\n",
       "  </thead>\n",
       "  <tbody>\n",
       "    <tr>\n",
       "      <th>0</th>\n",
       "      <td>white</td>\n",
       "      <td>7.0</td>\n",
       "      <td>0.27</td>\n",
       "      <td>0.36</td>\n",
       "      <td>20.7</td>\n",
       "      <td>0.045</td>\n",
       "      <td>45.0</td>\n",
       "      <td>170.0</td>\n",
       "      <td>1.0010</td>\n",
       "      <td>3.00</td>\n",
       "      <td>0.45</td>\n",
       "      <td>8.8</td>\n",
       "      <td>6</td>\n",
       "    </tr>\n",
       "    <tr>\n",
       "      <th>1</th>\n",
       "      <td>white</td>\n",
       "      <td>6.3</td>\n",
       "      <td>0.30</td>\n",
       "      <td>0.34</td>\n",
       "      <td>1.6</td>\n",
       "      <td>0.049</td>\n",
       "      <td>14.0</td>\n",
       "      <td>132.0</td>\n",
       "      <td>0.9940</td>\n",
       "      <td>3.30</td>\n",
       "      <td>0.49</td>\n",
       "      <td>9.5</td>\n",
       "      <td>6</td>\n",
       "    </tr>\n",
       "    <tr>\n",
       "      <th>2</th>\n",
       "      <td>white</td>\n",
       "      <td>8.1</td>\n",
       "      <td>0.28</td>\n",
       "      <td>0.40</td>\n",
       "      <td>6.9</td>\n",
       "      <td>0.050</td>\n",
       "      <td>30.0</td>\n",
       "      <td>97.0</td>\n",
       "      <td>0.9951</td>\n",
       "      <td>3.26</td>\n",
       "      <td>0.44</td>\n",
       "      <td>10.1</td>\n",
       "      <td>6</td>\n",
       "    </tr>\n",
       "    <tr>\n",
       "      <th>3</th>\n",
       "      <td>white</td>\n",
       "      <td>7.2</td>\n",
       "      <td>0.23</td>\n",
       "      <td>0.32</td>\n",
       "      <td>8.5</td>\n",
       "      <td>0.058</td>\n",
       "      <td>47.0</td>\n",
       "      <td>186.0</td>\n",
       "      <td>0.9956</td>\n",
       "      <td>3.19</td>\n",
       "      <td>0.40</td>\n",
       "      <td>9.9</td>\n",
       "      <td>6</td>\n",
       "    </tr>\n",
       "    <tr>\n",
       "      <th>4</th>\n",
       "      <td>white</td>\n",
       "      <td>7.2</td>\n",
       "      <td>0.23</td>\n",
       "      <td>0.32</td>\n",
       "      <td>8.5</td>\n",
       "      <td>0.058</td>\n",
       "      <td>47.0</td>\n",
       "      <td>186.0</td>\n",
       "      <td>0.9956</td>\n",
       "      <td>3.19</td>\n",
       "      <td>0.40</td>\n",
       "      <td>9.9</td>\n",
       "      <td>6</td>\n",
       "    </tr>\n",
       "    <tr>\n",
       "      <th>5</th>\n",
       "      <td>white</td>\n",
       "      <td>8.1</td>\n",
       "      <td>0.28</td>\n",
       "      <td>0.40</td>\n",
       "      <td>6.9</td>\n",
       "      <td>0.050</td>\n",
       "      <td>30.0</td>\n",
       "      <td>97.0</td>\n",
       "      <td>0.9951</td>\n",
       "      <td>3.26</td>\n",
       "      <td>0.44</td>\n",
       "      <td>10.1</td>\n",
       "      <td>6</td>\n",
       "    </tr>\n",
       "    <tr>\n",
       "      <th>6</th>\n",
       "      <td>white</td>\n",
       "      <td>6.2</td>\n",
       "      <td>0.32</td>\n",
       "      <td>0.16</td>\n",
       "      <td>7.0</td>\n",
       "      <td>0.045</td>\n",
       "      <td>30.0</td>\n",
       "      <td>136.0</td>\n",
       "      <td>0.9949</td>\n",
       "      <td>3.18</td>\n",
       "      <td>0.47</td>\n",
       "      <td>9.6</td>\n",
       "      <td>6</td>\n",
       "    </tr>\n",
       "    <tr>\n",
       "      <th>7</th>\n",
       "      <td>white</td>\n",
       "      <td>7.0</td>\n",
       "      <td>0.27</td>\n",
       "      <td>0.36</td>\n",
       "      <td>20.7</td>\n",
       "      <td>0.045</td>\n",
       "      <td>45.0</td>\n",
       "      <td>170.0</td>\n",
       "      <td>1.0010</td>\n",
       "      <td>3.00</td>\n",
       "      <td>0.45</td>\n",
       "      <td>8.8</td>\n",
       "      <td>6</td>\n",
       "    </tr>\n",
       "    <tr>\n",
       "      <th>8</th>\n",
       "      <td>white</td>\n",
       "      <td>6.3</td>\n",
       "      <td>0.30</td>\n",
       "      <td>0.34</td>\n",
       "      <td>1.6</td>\n",
       "      <td>0.049</td>\n",
       "      <td>14.0</td>\n",
       "      <td>132.0</td>\n",
       "      <td>0.9940</td>\n",
       "      <td>3.30</td>\n",
       "      <td>0.49</td>\n",
       "      <td>9.5</td>\n",
       "      <td>6</td>\n",
       "    </tr>\n",
       "    <tr>\n",
       "      <th>9</th>\n",
       "      <td>white</td>\n",
       "      <td>8.1</td>\n",
       "      <td>0.22</td>\n",
       "      <td>0.43</td>\n",
       "      <td>1.5</td>\n",
       "      <td>0.044</td>\n",
       "      <td>28.0</td>\n",
       "      <td>129.0</td>\n",
       "      <td>0.9938</td>\n",
       "      <td>3.22</td>\n",
       "      <td>0.45</td>\n",
       "      <td>11.0</td>\n",
       "      <td>6</td>\n",
       "    </tr>\n",
       "  </tbody>\n",
       "</table>\n",
       "</div>"
      ],
      "text/plain": [
       "    type  fixed acidity  volatile acidity  citric acid  residual sugar  \\\n",
       "0  white            7.0              0.27         0.36            20.7   \n",
       "1  white            6.3              0.30         0.34             1.6   \n",
       "2  white            8.1              0.28         0.40             6.9   \n",
       "3  white            7.2              0.23         0.32             8.5   \n",
       "4  white            7.2              0.23         0.32             8.5   \n",
       "5  white            8.1              0.28         0.40             6.9   \n",
       "6  white            6.2              0.32         0.16             7.0   \n",
       "7  white            7.0              0.27         0.36            20.7   \n",
       "8  white            6.3              0.30         0.34             1.6   \n",
       "9  white            8.1              0.22         0.43             1.5   \n",
       "\n",
       "   chlorides  free sulfur dioxide  total sulfur dioxide  density    pH  \\\n",
       "0      0.045                 45.0                 170.0   1.0010  3.00   \n",
       "1      0.049                 14.0                 132.0   0.9940  3.30   \n",
       "2      0.050                 30.0                  97.0   0.9951  3.26   \n",
       "3      0.058                 47.0                 186.0   0.9956  3.19   \n",
       "4      0.058                 47.0                 186.0   0.9956  3.19   \n",
       "5      0.050                 30.0                  97.0   0.9951  3.26   \n",
       "6      0.045                 30.0                 136.0   0.9949  3.18   \n",
       "7      0.045                 45.0                 170.0   1.0010  3.00   \n",
       "8      0.049                 14.0                 132.0   0.9940  3.30   \n",
       "9      0.044                 28.0                 129.0   0.9938  3.22   \n",
       "\n",
       "   sulphates  alcohol  quality  \n",
       "0       0.45      8.8        6  \n",
       "1       0.49      9.5        6  \n",
       "2       0.44     10.1        6  \n",
       "3       0.40      9.9        6  \n",
       "4       0.40      9.9        6  \n",
       "5       0.44     10.1        6  \n",
       "6       0.47      9.6        6  \n",
       "7       0.45      8.8        6  \n",
       "8       0.49      9.5        6  \n",
       "9       0.45     11.0        6  "
      ]
     },
     "execution_count": 3,
     "metadata": {},
     "output_type": "execute_result"
    }
   ],
   "source": [
    "# Load the wine data set from a URL.\n",
    "df = pd.read_csv(\"Data/winequalityN.csv\")\n",
    "df.head(10)"
   ]
  },
  {
   "cell_type": "markdown",
   "id": "4fbb7a32-879e-4df6-96d4-6d4bb9ff3575",
   "metadata": {},
   "source": [
    "We use the `.info()` and `.describe()` functions to get a an overview of the data."
   ]
  },
  {
   "cell_type": "code",
   "execution_count": 4,
   "id": "1c32523b-417e-4306-a9ea-2d184c06729c",
   "metadata": {},
   "outputs": [
    {
     "name": "stdout",
     "output_type": "stream",
     "text": [
      "<class 'pandas.core.frame.DataFrame'>\n",
      "RangeIndex: 6497 entries, 0 to 6496\n",
      "Data columns (total 13 columns):\n",
      " #   Column                Non-Null Count  Dtype  \n",
      "---  ------                --------------  -----  \n",
      " 0   type                  6497 non-null   object \n",
      " 1   fixed acidity         6487 non-null   float64\n",
      " 2   volatile acidity      6489 non-null   float64\n",
      " 3   citric acid           6494 non-null   float64\n",
      " 4   residual sugar        6495 non-null   float64\n",
      " 5   chlorides             6495 non-null   float64\n",
      " 6   free sulfur dioxide   6497 non-null   float64\n",
      " 7   total sulfur dioxide  6497 non-null   float64\n",
      " 8   density               6497 non-null   float64\n",
      " 9   pH                    6488 non-null   float64\n",
      " 10  sulphates             6493 non-null   float64\n",
      " 11  alcohol               6497 non-null   float64\n",
      " 12  quality               6497 non-null   int64  \n",
      "dtypes: float64(11), int64(1), object(1)\n",
      "memory usage: 660.0+ KB\n"
     ]
    }
   ],
   "source": [
    "# overview of data\n",
    "df.info()"
   ]
  },
  {
   "cell_type": "code",
   "execution_count": 5,
   "id": "ba1a8484-36bd-4a51-bdf4-865adde9fabd",
   "metadata": {},
   "outputs": [
    {
     "data": {
      "text/plain": [
       "type                     0\n",
       "fixed acidity           10\n",
       "volatile acidity         8\n",
       "citric acid              3\n",
       "residual sugar           2\n",
       "chlorides                2\n",
       "free sulfur dioxide      0\n",
       "total sulfur dioxide     0\n",
       "density                  0\n",
       "pH                       9\n",
       "sulphates                4\n",
       "alcohol                  0\n",
       "quality                  0\n",
       "dtype: int64"
      ]
     },
     "execution_count": 5,
     "metadata": {},
     "output_type": "execute_result"
    }
   ],
   "source": [
    "# check for nulls\n",
    "df.isnull().sum()"
   ]
  },
  {
   "cell_type": "code",
   "execution_count": 6,
   "id": "6ccb2916-2ed9-48a2-aa91-e50f21a475c4",
   "metadata": {},
   "outputs": [
    {
     "data": {
      "text/html": [
       "<div>\n",
       "<style scoped>\n",
       "    .dataframe tbody tr th:only-of-type {\n",
       "        vertical-align: middle;\n",
       "    }\n",
       "\n",
       "    .dataframe tbody tr th {\n",
       "        vertical-align: top;\n",
       "    }\n",
       "\n",
       "    .dataframe thead th {\n",
       "        text-align: right;\n",
       "    }\n",
       "</style>\n",
       "<table border=\"1\" class=\"dataframe\">\n",
       "  <thead>\n",
       "    <tr style=\"text-align: right;\">\n",
       "      <th></th>\n",
       "      <th>fixed acidity</th>\n",
       "      <th>volatile acidity</th>\n",
       "      <th>citric acid</th>\n",
       "      <th>residual sugar</th>\n",
       "      <th>chlorides</th>\n",
       "      <th>free sulfur dioxide</th>\n",
       "      <th>total sulfur dioxide</th>\n",
       "      <th>density</th>\n",
       "      <th>pH</th>\n",
       "      <th>sulphates</th>\n",
       "      <th>alcohol</th>\n",
       "      <th>quality</th>\n",
       "    </tr>\n",
       "  </thead>\n",
       "  <tbody>\n",
       "    <tr>\n",
       "      <th>count</th>\n",
       "      <td>6487.000000</td>\n",
       "      <td>6489.000000</td>\n",
       "      <td>6494.000000</td>\n",
       "      <td>6495.000000</td>\n",
       "      <td>6495.000000</td>\n",
       "      <td>6497.000000</td>\n",
       "      <td>6497.000000</td>\n",
       "      <td>6497.000000</td>\n",
       "      <td>6488.000000</td>\n",
       "      <td>6493.000000</td>\n",
       "      <td>6497.000000</td>\n",
       "      <td>6497.000000</td>\n",
       "    </tr>\n",
       "    <tr>\n",
       "      <th>mean</th>\n",
       "      <td>7.216579</td>\n",
       "      <td>0.339691</td>\n",
       "      <td>0.318722</td>\n",
       "      <td>5.444326</td>\n",
       "      <td>0.056042</td>\n",
       "      <td>30.525319</td>\n",
       "      <td>115.744574</td>\n",
       "      <td>0.994697</td>\n",
       "      <td>3.218395</td>\n",
       "      <td>0.531215</td>\n",
       "      <td>10.491801</td>\n",
       "      <td>5.818378</td>\n",
       "    </tr>\n",
       "    <tr>\n",
       "      <th>std</th>\n",
       "      <td>1.296750</td>\n",
       "      <td>0.164649</td>\n",
       "      <td>0.145265</td>\n",
       "      <td>4.758125</td>\n",
       "      <td>0.035036</td>\n",
       "      <td>17.749400</td>\n",
       "      <td>56.521855</td>\n",
       "      <td>0.002999</td>\n",
       "      <td>0.160748</td>\n",
       "      <td>0.148814</td>\n",
       "      <td>1.192712</td>\n",
       "      <td>0.873255</td>\n",
       "    </tr>\n",
       "    <tr>\n",
       "      <th>min</th>\n",
       "      <td>3.800000</td>\n",
       "      <td>0.080000</td>\n",
       "      <td>0.000000</td>\n",
       "      <td>0.600000</td>\n",
       "      <td>0.009000</td>\n",
       "      <td>1.000000</td>\n",
       "      <td>6.000000</td>\n",
       "      <td>0.987110</td>\n",
       "      <td>2.720000</td>\n",
       "      <td>0.220000</td>\n",
       "      <td>8.000000</td>\n",
       "      <td>3.000000</td>\n",
       "    </tr>\n",
       "    <tr>\n",
       "      <th>25%</th>\n",
       "      <td>6.400000</td>\n",
       "      <td>0.230000</td>\n",
       "      <td>0.250000</td>\n",
       "      <td>1.800000</td>\n",
       "      <td>0.038000</td>\n",
       "      <td>17.000000</td>\n",
       "      <td>77.000000</td>\n",
       "      <td>0.992340</td>\n",
       "      <td>3.110000</td>\n",
       "      <td>0.430000</td>\n",
       "      <td>9.500000</td>\n",
       "      <td>5.000000</td>\n",
       "    </tr>\n",
       "    <tr>\n",
       "      <th>50%</th>\n",
       "      <td>7.000000</td>\n",
       "      <td>0.290000</td>\n",
       "      <td>0.310000</td>\n",
       "      <td>3.000000</td>\n",
       "      <td>0.047000</td>\n",
       "      <td>29.000000</td>\n",
       "      <td>118.000000</td>\n",
       "      <td>0.994890</td>\n",
       "      <td>3.210000</td>\n",
       "      <td>0.510000</td>\n",
       "      <td>10.300000</td>\n",
       "      <td>6.000000</td>\n",
       "    </tr>\n",
       "    <tr>\n",
       "      <th>75%</th>\n",
       "      <td>7.700000</td>\n",
       "      <td>0.400000</td>\n",
       "      <td>0.390000</td>\n",
       "      <td>8.100000</td>\n",
       "      <td>0.065000</td>\n",
       "      <td>41.000000</td>\n",
       "      <td>156.000000</td>\n",
       "      <td>0.996990</td>\n",
       "      <td>3.320000</td>\n",
       "      <td>0.600000</td>\n",
       "      <td>11.300000</td>\n",
       "      <td>6.000000</td>\n",
       "    </tr>\n",
       "    <tr>\n",
       "      <th>max</th>\n",
       "      <td>15.900000</td>\n",
       "      <td>1.580000</td>\n",
       "      <td>1.660000</td>\n",
       "      <td>65.800000</td>\n",
       "      <td>0.611000</td>\n",
       "      <td>289.000000</td>\n",
       "      <td>440.000000</td>\n",
       "      <td>1.038980</td>\n",
       "      <td>4.010000</td>\n",
       "      <td>2.000000</td>\n",
       "      <td>14.900000</td>\n",
       "      <td>9.000000</td>\n",
       "    </tr>\n",
       "  </tbody>\n",
       "</table>\n",
       "</div>"
      ],
      "text/plain": [
       "       fixed acidity  volatile acidity  citric acid  residual sugar  \\\n",
       "count    6487.000000       6489.000000  6494.000000     6495.000000   \n",
       "mean        7.216579          0.339691     0.318722        5.444326   \n",
       "std         1.296750          0.164649     0.145265        4.758125   \n",
       "min         3.800000          0.080000     0.000000        0.600000   \n",
       "25%         6.400000          0.230000     0.250000        1.800000   \n",
       "50%         7.000000          0.290000     0.310000        3.000000   \n",
       "75%         7.700000          0.400000     0.390000        8.100000   \n",
       "max        15.900000          1.580000     1.660000       65.800000   \n",
       "\n",
       "         chlorides  free sulfur dioxide  total sulfur dioxide      density  \\\n",
       "count  6495.000000          6497.000000           6497.000000  6497.000000   \n",
       "mean      0.056042            30.525319            115.744574     0.994697   \n",
       "std       0.035036            17.749400             56.521855     0.002999   \n",
       "min       0.009000             1.000000              6.000000     0.987110   \n",
       "25%       0.038000            17.000000             77.000000     0.992340   \n",
       "50%       0.047000            29.000000            118.000000     0.994890   \n",
       "75%       0.065000            41.000000            156.000000     0.996990   \n",
       "max       0.611000           289.000000            440.000000     1.038980   \n",
       "\n",
       "                pH    sulphates      alcohol      quality  \n",
       "count  6488.000000  6493.000000  6497.000000  6497.000000  \n",
       "mean      3.218395     0.531215    10.491801     5.818378  \n",
       "std       0.160748     0.148814     1.192712     0.873255  \n",
       "min       2.720000     0.220000     8.000000     3.000000  \n",
       "25%       3.110000     0.430000     9.500000     5.000000  \n",
       "50%       3.210000     0.510000    10.300000     6.000000  \n",
       "75%       3.320000     0.600000    11.300000     6.000000  \n",
       "max       4.010000     2.000000    14.900000     9.000000  "
      ]
     },
     "execution_count": 6,
     "metadata": {},
     "output_type": "execute_result"
    }
   ],
   "source": [
    "# data statistics.\n",
    "df.describe()"
   ]
  },
  {
   "cell_type": "markdown",
   "id": "5e6b8a3a-4ff7-4303-9138-29349e0da562",
   "metadata": {},
   "source": [
    "So we have 6497 entries in total, but some variables seem to be missing entries - not sure how this will affect things! \n",
    "Also we notice some unusually disparate values. The max residual sugar is 65.8 which is sickly sweet and not at all typical of vinho verde! As residual sugar is an important basic component of wine, and one I'm very likely to include in any analysis, I'd be tempted to exclude this as it may skew the figures somewhat. 'Free sulfur dioxide' and 'total sulfur dioxide' also seem to have vast ranges and massive standard deviations so I may have to look into those further as well if we end up using them.  \n",
    "All entires are floating point numbers except type and quality. From the outset it was clear that I'd either be trying to use machine learning to predict whether the wine was white or red, or whether we could predict the quality. I'm assuming that the former of these should be fairly straight forward so I'll concentrate on the latter. We first see what range of quality values we're dealing with using firstly the `.unique()` method and then `.value_counts()`."
   ]
  },
  {
   "cell_type": "code",
   "execution_count": 7,
   "id": "b2ffea8a-fbc2-47f0-9dd2-77b63765e9b8",
   "metadata": {},
   "outputs": [
    {
     "data": {
      "text/plain": [
       "array([6, 5, 7, 8, 4, 3, 9])"
      ]
     },
     "execution_count": 7,
     "metadata": {},
     "output_type": "execute_result"
    }
   ],
   "source": [
    "# check for unique numbers in quality scores\n",
    "df['quality'].unique()"
   ]
  },
  {
   "cell_type": "code",
   "execution_count": 8,
   "id": "29348466-1063-4c5e-b098-886ca7158a51",
   "metadata": {},
   "outputs": [
    {
     "data": {
      "text/plain": [
       "6    2836\n",
       "5    2138\n",
       "7    1079\n",
       "4     216\n",
       "8     193\n",
       "3      30\n",
       "9       5\n",
       "Name: quality, dtype: int64"
      ]
     },
     "execution_count": 8,
     "metadata": {},
     "output_type": "execute_result"
    }
   ],
   "source": [
    "# value counts for quality\n",
    "df['quality'].value_counts()"
   ]
  },
  {
   "cell_type": "code",
   "execution_count": 9,
   "id": "8894134f-83d4-41b9-a810-256e9f20b0a7",
   "metadata": {},
   "outputs": [
    {
     "data": {
      "text/plain": [
       "<AxesSubplot:title={'center':'frequency of quality scores'}, xlabel='quality score', ylabel='frequency'>"
      ]
     },
     "execution_count": 9,
     "metadata": {},
     "output_type": "execute_result"
    },
    {
     "data": {
      "image/png": "[encoded data removed]",
      "text/plain": [
       "<Figure size 1080x720 with 1 Axes>"
      ]
     },
     "metadata": {},
     "output_type": "display_data"
    }
   ],
   "source": [
    "# visualise breakdown of quality scores on a histogram\n",
    "plt.xlabel(\"quality score\")\n",
    "plt.ylabel(\"frequency\")\n",
    "plt.title(\"frequency of quality scores\")\n",
    "sns.histplot(data=df, x='quality', kde=True)"
   ]
  },
  {
   "cell_type": "markdown",
   "id": "f3fd1c8b-02c6-4214-bf6e-3f750e1c33a4",
   "metadata": {},
   "source": [
    "We can see that the range of scores runs from 3 to 9 with the majority of scores falling around 5,6,7. It has been suggested in other analyses to split the 7 groups into 3 or 2 so I might try that. With only 5 entries out of 6497, it would be unreasonable to expet the model to identify a 9 scoring wine!  \n",
    "Then we look at the breakdown of red and white."
   ]
  },
  {
   "cell_type": "code",
   "execution_count": 10,
   "id": "ba338130-3f4b-46bc-b9ef-76c3de4dc597",
   "metadata": {},
   "outputs": [
    {
     "data": {
      "text/plain": [
       "white    4898\n",
       "red      1599\n",
       "Name: type, dtype: int64"
      ]
     },
     "execution_count": 10,
     "metadata": {},
     "output_type": "execute_result"
    }
   ],
   "source": [
    "df['type'].value_counts()"
   ]
  },
  {
   "cell_type": "markdown",
   "id": "93a8c40c-9849-417f-9314-0e83bf9efe90",
   "metadata": {},
   "source": [
    "I think we'll concentrate on just white wine. In theory red and white wine should have much different parameters so I don't think it'll be very helpful to consider them together. So we create a new dataset with just the white wines."
   ]
  },
  {
   "cell_type": "code",
   "execution_count": 11,
   "id": "46c403b0-dff1-4c43-9020-b51b0c743241",
   "metadata": {},
   "outputs": [
    {
     "data": {
      "text/html": [
       "<div>\n",
       "<style scoped>\n",
       "    .dataframe tbody tr th:only-of-type {\n",
       "        vertical-align: middle;\n",
       "    }\n",
       "\n",
       "    .dataframe tbody tr th {\n",
       "        vertical-align: top;\n",
       "    }\n",
       "\n",
       "    .dataframe thead th {\n",
       "        text-align: right;\n",
       "    }\n",
       "</style>\n",
       "<table border=\"1\" class=\"dataframe\">\n",
       "  <thead>\n",
       "    <tr style=\"text-align: right;\">\n",
       "      <th></th>\n",
       "      <th>type</th>\n",
       "      <th>fixed acidity</th>\n",
       "      <th>volatile acidity</th>\n",
       "      <th>citric acid</th>\n",
       "      <th>residual sugar</th>\n",
       "      <th>chlorides</th>\n",
       "      <th>free sulfur dioxide</th>\n",
       "      <th>total sulfur dioxide</th>\n",
       "      <th>density</th>\n",
       "      <th>pH</th>\n",
       "      <th>sulphates</th>\n",
       "      <th>alcohol</th>\n",
       "      <th>quality</th>\n",
       "    </tr>\n",
       "  </thead>\n",
       "  <tbody>\n",
       "    <tr>\n",
       "      <th>0</th>\n",
       "      <td>white</td>\n",
       "      <td>7.0</td>\n",
       "      <td>0.27</td>\n",
       "      <td>0.36</td>\n",
       "      <td>20.7</td>\n",
       "      <td>0.045</td>\n",
       "      <td>45.0</td>\n",
       "      <td>170.0</td>\n",
       "      <td>1.0010</td>\n",
       "      <td>3.00</td>\n",
       "      <td>0.45</td>\n",
       "      <td>8.8</td>\n",
       "      <td>6</td>\n",
       "    </tr>\n",
       "    <tr>\n",
       "      <th>1</th>\n",
       "      <td>white</td>\n",
       "      <td>6.3</td>\n",
       "      <td>0.30</td>\n",
       "      <td>0.34</td>\n",
       "      <td>1.6</td>\n",
       "      <td>0.049</td>\n",
       "      <td>14.0</td>\n",
       "      <td>132.0</td>\n",
       "      <td>0.9940</td>\n",
       "      <td>3.30</td>\n",
       "      <td>0.49</td>\n",
       "      <td>9.5</td>\n",
       "      <td>6</td>\n",
       "    </tr>\n",
       "    <tr>\n",
       "      <th>2</th>\n",
       "      <td>white</td>\n",
       "      <td>8.1</td>\n",
       "      <td>0.28</td>\n",
       "      <td>0.40</td>\n",
       "      <td>6.9</td>\n",
       "      <td>0.050</td>\n",
       "      <td>30.0</td>\n",
       "      <td>97.0</td>\n",
       "      <td>0.9951</td>\n",
       "      <td>3.26</td>\n",
       "      <td>0.44</td>\n",
       "      <td>10.1</td>\n",
       "      <td>6</td>\n",
       "    </tr>\n",
       "    <tr>\n",
       "      <th>3</th>\n",
       "      <td>white</td>\n",
       "      <td>7.2</td>\n",
       "      <td>0.23</td>\n",
       "      <td>0.32</td>\n",
       "      <td>8.5</td>\n",
       "      <td>0.058</td>\n",
       "      <td>47.0</td>\n",
       "      <td>186.0</td>\n",
       "      <td>0.9956</td>\n",
       "      <td>3.19</td>\n",
       "      <td>0.40</td>\n",
       "      <td>9.9</td>\n",
       "      <td>6</td>\n",
       "    </tr>\n",
       "    <tr>\n",
       "      <th>4</th>\n",
       "      <td>white</td>\n",
       "      <td>7.2</td>\n",
       "      <td>0.23</td>\n",
       "      <td>0.32</td>\n",
       "      <td>8.5</td>\n",
       "      <td>0.058</td>\n",
       "      <td>47.0</td>\n",
       "      <td>186.0</td>\n",
       "      <td>0.9956</td>\n",
       "      <td>3.19</td>\n",
       "      <td>0.40</td>\n",
       "      <td>9.9</td>\n",
       "      <td>6</td>\n",
       "    </tr>\n",
       "  </tbody>\n",
       "</table>\n",
       "</div>"
      ],
      "text/plain": [
       "    type  fixed acidity  volatile acidity  citric acid  residual sugar  \\\n",
       "0  white            7.0              0.27         0.36            20.7   \n",
       "1  white            6.3              0.30         0.34             1.6   \n",
       "2  white            8.1              0.28         0.40             6.9   \n",
       "3  white            7.2              0.23         0.32             8.5   \n",
       "4  white            7.2              0.23         0.32             8.5   \n",
       "\n",
       "   chlorides  free sulfur dioxide  total sulfur dioxide  density    pH  \\\n",
       "0      0.045                 45.0                 170.0   1.0010  3.00   \n",
       "1      0.049                 14.0                 132.0   0.9940  3.30   \n",
       "2      0.050                 30.0                  97.0   0.9951  3.26   \n",
       "3      0.058                 47.0                 186.0   0.9956  3.19   \n",
       "4      0.058                 47.0                 186.0   0.9956  3.19   \n",
       "\n",
       "   sulphates  alcohol  quality  \n",
       "0       0.45      8.8        6  \n",
       "1       0.49      9.5        6  \n",
       "2       0.44     10.1        6  \n",
       "3       0.40      9.9        6  \n",
       "4       0.40      9.9        6  "
      ]
     },
     "execution_count": 11,
     "metadata": {},
     "output_type": "execute_result"
    }
   ],
   "source": [
    "# separate the white wines\n",
    "dfnew = df.loc[df['type'] == \"white\"]\n",
    "\n",
    "# print out the new head\n",
    "dfnew.head()"
   ]
  },
  {
   "cell_type": "code",
   "execution_count": 12,
   "id": "46efe025-9cde-4997-8623-46a4ae1f765b",
   "metadata": {},
   "outputs": [
    {
     "name": "stdout",
     "output_type": "stream",
     "text": [
      "<class 'pandas.core.frame.DataFrame'>\n",
      "Int64Index: 4898 entries, 0 to 4897\n",
      "Data columns (total 13 columns):\n",
      " #   Column                Non-Null Count  Dtype  \n",
      "---  ------                --------------  -----  \n",
      " 0   type                  4898 non-null   object \n",
      " 1   fixed acidity         4890 non-null   float64\n",
      " 2   volatile acidity      4891 non-null   float64\n",
      " 3   citric acid           4896 non-null   float64\n",
      " 4   residual sugar        4896 non-null   float64\n",
      " 5   chlorides             4896 non-null   float64\n",
      " 6   free sulfur dioxide   4898 non-null   float64\n",
      " 7   total sulfur dioxide  4898 non-null   float64\n",
      " 8   density               4898 non-null   float64\n",
      " 9   pH                    4891 non-null   float64\n",
      " 10  sulphates             4896 non-null   float64\n",
      " 11  alcohol               4898 non-null   float64\n",
      " 12  quality               4898 non-null   int64  \n",
      "dtypes: float64(11), int64(1), object(1)\n",
      "memory usage: 535.7+ KB\n"
     ]
    }
   ],
   "source": [
    "dfnew.info()"
   ]
  },
  {
   "cell_type": "markdown",
   "id": "b6affb7d-c1b6-4f7d-9b2b-436bdd74c97c",
   "metadata": {},
   "source": [
    "We no longer need the type column so I'll delete that."
   ]
  },
  {
   "cell_type": "code",
   "execution_count": 13,
   "id": "a4b6fa91-90dd-4d2e-baae-901d41421bc6",
   "metadata": {},
   "outputs": [
    {
     "data": {
      "text/html": [
       "<div>\n",
       "<style scoped>\n",
       "    .dataframe tbody tr th:only-of-type {\n",
       "        vertical-align: middle;\n",
       "    }\n",
       "\n",
       "    .dataframe tbody tr th {\n",
       "        vertical-align: top;\n",
       "    }\n",
       "\n",
       "    .dataframe thead th {\n",
       "        text-align: right;\n",
       "    }\n",
       "</style>\n",
       "<table border=\"1\" class=\"dataframe\">\n",
       "  <thead>\n",
       "    <tr style=\"text-align: right;\">\n",
       "      <th></th>\n",
       "      <th>fixed acidity</th>\n",
       "      <th>volatile acidity</th>\n",
       "      <th>citric acid</th>\n",
       "      <th>residual sugar</th>\n",
       "      <th>chlorides</th>\n",
       "      <th>free sulfur dioxide</th>\n",
       "      <th>total sulfur dioxide</th>\n",
       "      <th>density</th>\n",
       "      <th>pH</th>\n",
       "      <th>sulphates</th>\n",
       "      <th>alcohol</th>\n",
       "      <th>quality</th>\n",
       "    </tr>\n",
       "  </thead>\n",
       "  <tbody>\n",
       "    <tr>\n",
       "      <th>0</th>\n",
       "      <td>7.0</td>\n",
       "      <td>0.27</td>\n",
       "      <td>0.36</td>\n",
       "      <td>20.7</td>\n",
       "      <td>0.045</td>\n",
       "      <td>45.0</td>\n",
       "      <td>170.0</td>\n",
       "      <td>1.0010</td>\n",
       "      <td>3.00</td>\n",
       "      <td>0.45</td>\n",
       "      <td>8.8</td>\n",
       "      <td>6</td>\n",
       "    </tr>\n",
       "    <tr>\n",
       "      <th>1</th>\n",
       "      <td>6.3</td>\n",
       "      <td>0.30</td>\n",
       "      <td>0.34</td>\n",
       "      <td>1.6</td>\n",
       "      <td>0.049</td>\n",
       "      <td>14.0</td>\n",
       "      <td>132.0</td>\n",
       "      <td>0.9940</td>\n",
       "      <td>3.30</td>\n",
       "      <td>0.49</td>\n",
       "      <td>9.5</td>\n",
       "      <td>6</td>\n",
       "    </tr>\n",
       "    <tr>\n",
       "      <th>2</th>\n",
       "      <td>8.1</td>\n",
       "      <td>0.28</td>\n",
       "      <td>0.40</td>\n",
       "      <td>6.9</td>\n",
       "      <td>0.050</td>\n",
       "      <td>30.0</td>\n",
       "      <td>97.0</td>\n",
       "      <td>0.9951</td>\n",
       "      <td>3.26</td>\n",
       "      <td>0.44</td>\n",
       "      <td>10.1</td>\n",
       "      <td>6</td>\n",
       "    </tr>\n",
       "    <tr>\n",
       "      <th>3</th>\n",
       "      <td>7.2</td>\n",
       "      <td>0.23</td>\n",
       "      <td>0.32</td>\n",
       "      <td>8.5</td>\n",
       "      <td>0.058</td>\n",
       "      <td>47.0</td>\n",
       "      <td>186.0</td>\n",
       "      <td>0.9956</td>\n",
       "      <td>3.19</td>\n",
       "      <td>0.40</td>\n",
       "      <td>9.9</td>\n",
       "      <td>6</td>\n",
       "    </tr>\n",
       "    <tr>\n",
       "      <th>4</th>\n",
       "      <td>7.2</td>\n",
       "      <td>0.23</td>\n",
       "      <td>0.32</td>\n",
       "      <td>8.5</td>\n",
       "      <td>0.058</td>\n",
       "      <td>47.0</td>\n",
       "      <td>186.0</td>\n",
       "      <td>0.9956</td>\n",
       "      <td>3.19</td>\n",
       "      <td>0.40</td>\n",
       "      <td>9.9</td>\n",
       "      <td>6</td>\n",
       "    </tr>\n",
       "  </tbody>\n",
       "</table>\n",
       "</div>"
      ],
      "text/plain": [
       "   fixed acidity  volatile acidity  citric acid  residual sugar  chlorides  \\\n",
       "0            7.0              0.27         0.36            20.7      0.045   \n",
       "1            6.3              0.30         0.34             1.6      0.049   \n",
       "2            8.1              0.28         0.40             6.9      0.050   \n",
       "3            7.2              0.23         0.32             8.5      0.058   \n",
       "4            7.2              0.23         0.32             8.5      0.058   \n",
       "\n",
       "   free sulfur dioxide  total sulfur dioxide  density    pH  sulphates  \\\n",
       "0                 45.0                 170.0   1.0010  3.00       0.45   \n",
       "1                 14.0                 132.0   0.9940  3.30       0.49   \n",
       "2                 30.0                  97.0   0.9951  3.26       0.44   \n",
       "3                 47.0                 186.0   0.9956  3.19       0.40   \n",
       "4                 47.0                 186.0   0.9956  3.19       0.40   \n",
       "\n",
       "   alcohol  quality  \n",
       "0      8.8        6  \n",
       "1      9.5        6  \n",
       "2     10.1        6  \n",
       "3      9.9        6  \n",
       "4      9.9        6  "
      ]
     },
     "execution_count": 13,
     "metadata": {},
     "output_type": "execute_result"
    }
   ],
   "source": [
    "dfnew = dfnew.drop(columns=['type'])\n",
    "dfnew.head()"
   ]
  },
  {
   "cell_type": "markdown",
   "id": "fc77bdc5-9d34-4f37-b2be-4794d9d2f6ae",
   "metadata": {},
   "source": [
    "Now to deal with the null values. It was suggested to fill these in with average values. The following code is from https://www.geeksforgeeks.org/wine-quality-prediction-machine-learning/"
   ]
  },
  {
   "cell_type": "code",
   "execution_count": 14,
   "id": "e455f18a-6c8e-4571-9a87-d736779e89bb",
   "metadata": {},
   "outputs": [],
   "source": [
    "# fill all nulls with mean values\n",
    "dfnew.update(dfnew.fillna(dfnew.mean()))"
   ]
  },
  {
   "cell_type": "code",
   "execution_count": 15,
   "id": "134f3b10-c106-4639-89d0-f742f27c9715",
   "metadata": {},
   "outputs": [
    {
     "data": {
      "text/plain": [
       "fixed acidity           0\n",
       "volatile acidity        0\n",
       "citric acid             0\n",
       "residual sugar          0\n",
       "chlorides               0\n",
       "free sulfur dioxide     0\n",
       "total sulfur dioxide    0\n",
       "density                 0\n",
       "pH                      0\n",
       "sulphates               0\n",
       "alcohol                 0\n",
       "quality                 0\n",
       "dtype: int64"
      ]
     },
     "execution_count": 15,
     "metadata": {},
     "output_type": "execute_result"
    }
   ],
   "source": [
    "# check to see if it worked\n",
    "dfnew.isnull().sum()"
   ]
  },
  {
   "cell_type": "markdown",
   "id": "e5212fc7-364d-4dee-a457-e31348792e9c",
   "metadata": {},
   "source": [
    "We'll take a look at the **correlation** now with a heatmap using `seaborn`.  \n",
    "Few tips from here - https://towardsdatascience.com/predicting-wine-quality-with-several-classification-techniques-179038ea6434"
   ]
  },
  {
   "cell_type": "code",
   "execution_count": 16,
   "id": "a8eedd71-0fd5-4a66-941e-c71ef6137e65",
   "metadata": {
    "tags": []
   },
   "outputs": [
    {
     "data": {
      "text/plain": [
       "<AxesSubplot:>"
      ]
     },
     "execution_count": 16,
     "metadata": {},
     "output_type": "execute_result"
    },
    {
     "data": {
      "image/png": "[encoded data removed]",
      "text/plain": [
       "<Figure size 1080x720 with 2 Axes>"
      ]
     },
     "metadata": {},
     "output_type": "display_data"
    }
   ],
   "source": [
    "# visualise correlation\n",
    "corr = dfnew[dfnew.columns].corr()\n",
    "sns.heatmap(corr, annot = True, cmap=sns.diverging_palette(220, 20, as_cmap=True))"
   ]
  },
  {
   "cell_type": "markdown",
   "id": "55d3950c-ce3c-40ce-9d67-6e6e4639652f",
   "metadata": {},
   "source": [
    "The darker squares represent a higher correlation between variables so we can see a few notable instances here. We will come back to this later."
   ]
  },
  {
   "cell_type": "markdown",
   "id": "19588eac-bb50-4f1a-bdc6-9827a8e39cb2",
   "metadata": {},
   "source": [
    "<br>\n",
    "\n",
    "### Classificaton"
   ]
  },
  {
   "cell_type": "markdown",
   "id": "fc399167-dbe8-4f03-9bbf-a632f70a6ec4",
   "metadata": {},
   "source": [
    "We going to split the dataset into 2 - wine and better wine! Better wine will have a score of 7 or higher. The following code creates a new column and then separates the betterQuality column from the rest of the dataframe. The betterQuality column will just be 0 or 1."
   ]
  },
  {
   "cell_type": "code",
   "execution_count": 17,
   "id": "ed80a318-88fe-4319-a3f2-9f5dab0a6838",
   "metadata": {},
   "outputs": [],
   "source": [
    "# Create Classification version of target variable\n",
    "dfnew['betterQuality'] = [1 if x >= 7 else 0 for x in dfnew['quality']]\n",
    "\n",
    "# Separate feature variables and target variable\n",
    "X = dfnew.drop(['quality','betterQuality'], axis = 1)\n",
    "y = dfnew['betterQuality']"
   ]
  },
  {
   "cell_type": "code",
   "execution_count": 18,
   "id": "36829759-e6ec-4005-88e1-49ba9adabfef",
   "metadata": {},
   "outputs": [
    {
     "data": {
      "text/plain": [
       "0    3838\n",
       "1    1060\n",
       "Name: betterQuality, dtype: int64"
      ]
     },
     "execution_count": 18,
     "metadata": {},
     "output_type": "execute_result"
    }
   ],
   "source": [
    "dfnew['betterQuality'].value_counts()"
   ]
  },
  {
   "cell_type": "code",
   "execution_count": 19,
   "id": "0298511b-7b95-4a37-b102-9d4a23ab66e0",
   "metadata": {},
   "outputs": [
    {
     "data": {
      "text/html": [
       "<div>\n",
       "<style scoped>\n",
       "    .dataframe tbody tr th:only-of-type {\n",
       "        vertical-align: middle;\n",
       "    }\n",
       "\n",
       "    .dataframe tbody tr th {\n",
       "        vertical-align: top;\n",
       "    }\n",
       "\n",
       "    .dataframe thead th {\n",
       "        text-align: right;\n",
       "    }\n",
       "</style>\n",
       "<table border=\"1\" class=\"dataframe\">\n",
       "  <thead>\n",
       "    <tr style=\"text-align: right;\">\n",
       "      <th></th>\n",
       "      <th>fixed acidity</th>\n",
       "      <th>volatile acidity</th>\n",
       "      <th>citric acid</th>\n",
       "      <th>residual sugar</th>\n",
       "      <th>chlorides</th>\n",
       "      <th>free sulfur dioxide</th>\n",
       "      <th>total sulfur dioxide</th>\n",
       "      <th>density</th>\n",
       "      <th>pH</th>\n",
       "      <th>sulphates</th>\n",
       "      <th>alcohol</th>\n",
       "      <th>quality</th>\n",
       "      <th>betterQuality</th>\n",
       "    </tr>\n",
       "  </thead>\n",
       "  <tbody>\n",
       "    <tr>\n",
       "      <th>0</th>\n",
       "      <td>7.0</td>\n",
       "      <td>0.27</td>\n",
       "      <td>0.36</td>\n",
       "      <td>20.7</td>\n",
       "      <td>0.045</td>\n",
       "      <td>45.0</td>\n",
       "      <td>170.0</td>\n",
       "      <td>1.0010</td>\n",
       "      <td>3.00</td>\n",
       "      <td>0.45</td>\n",
       "      <td>8.8</td>\n",
       "      <td>6</td>\n",
       "      <td>0</td>\n",
       "    </tr>\n",
       "    <tr>\n",
       "      <th>1</th>\n",
       "      <td>6.3</td>\n",
       "      <td>0.30</td>\n",
       "      <td>0.34</td>\n",
       "      <td>1.6</td>\n",
       "      <td>0.049</td>\n",
       "      <td>14.0</td>\n",
       "      <td>132.0</td>\n",
       "      <td>0.9940</td>\n",
       "      <td>3.30</td>\n",
       "      <td>0.49</td>\n",
       "      <td>9.5</td>\n",
       "      <td>6</td>\n",
       "      <td>0</td>\n",
       "    </tr>\n",
       "    <tr>\n",
       "      <th>2</th>\n",
       "      <td>8.1</td>\n",
       "      <td>0.28</td>\n",
       "      <td>0.40</td>\n",
       "      <td>6.9</td>\n",
       "      <td>0.050</td>\n",
       "      <td>30.0</td>\n",
       "      <td>97.0</td>\n",
       "      <td>0.9951</td>\n",
       "      <td>3.26</td>\n",
       "      <td>0.44</td>\n",
       "      <td>10.1</td>\n",
       "      <td>6</td>\n",
       "      <td>0</td>\n",
       "    </tr>\n",
       "    <tr>\n",
       "      <th>3</th>\n",
       "      <td>7.2</td>\n",
       "      <td>0.23</td>\n",
       "      <td>0.32</td>\n",
       "      <td>8.5</td>\n",
       "      <td>0.058</td>\n",
       "      <td>47.0</td>\n",
       "      <td>186.0</td>\n",
       "      <td>0.9956</td>\n",
       "      <td>3.19</td>\n",
       "      <td>0.40</td>\n",
       "      <td>9.9</td>\n",
       "      <td>6</td>\n",
       "      <td>0</td>\n",
       "    </tr>\n",
       "    <tr>\n",
       "      <th>4</th>\n",
       "      <td>7.2</td>\n",
       "      <td>0.23</td>\n",
       "      <td>0.32</td>\n",
       "      <td>8.5</td>\n",
       "      <td>0.058</td>\n",
       "      <td>47.0</td>\n",
       "      <td>186.0</td>\n",
       "      <td>0.9956</td>\n",
       "      <td>3.19</td>\n",
       "      <td>0.40</td>\n",
       "      <td>9.9</td>\n",
       "      <td>6</td>\n",
       "      <td>0</td>\n",
       "    </tr>\n",
       "  </tbody>\n",
       "</table>\n",
       "</div>"
      ],
      "text/plain": [
       "   fixed acidity  volatile acidity  citric acid  residual sugar  chlorides  \\\n",
       "0            7.0              0.27         0.36            20.7      0.045   \n",
       "1            6.3              0.30         0.34             1.6      0.049   \n",
       "2            8.1              0.28         0.40             6.9      0.050   \n",
       "3            7.2              0.23         0.32             8.5      0.058   \n",
       "4            7.2              0.23         0.32             8.5      0.058   \n",
       "\n",
       "   free sulfur dioxide  total sulfur dioxide  density    pH  sulphates  \\\n",
       "0                 45.0                 170.0   1.0010  3.00       0.45   \n",
       "1                 14.0                 132.0   0.9940  3.30       0.49   \n",
       "2                 30.0                  97.0   0.9951  3.26       0.44   \n",
       "3                 47.0                 186.0   0.9956  3.19       0.40   \n",
       "4                 47.0                 186.0   0.9956  3.19       0.40   \n",
       "\n",
       "   alcohol  quality  betterQuality  \n",
       "0      8.8        6              0  \n",
       "1      9.5        6              0  \n",
       "2     10.1        6              0  \n",
       "3      9.9        6              0  \n",
       "4      9.9        6              0  "
      ]
     },
     "execution_count": 19,
     "metadata": {},
     "output_type": "execute_result"
    }
   ],
   "source": [
    "dfnew.head()"
   ]
  },
  {
   "cell_type": "markdown",
   "id": "b344ee42-9a21-4c29-b7e6-f047094e29e9",
   "metadata": {},
   "source": [
    "<br>\n",
    "\n",
    "___\n",
    "\n",
    "## K-Nearest Neighbor\n",
    "\n",
    "https://scikit-learn.org/stable/modules/generated/sklearn.neighbors.KNeighborsClassifier.html\n",
    "\n",
    "___"
   ]
  },
  {
   "cell_type": "markdown",
   "id": "c082ade2-a9e7-47d8-9e6f-c3b535a4833a",
   "metadata": {},
   "source": [
    ">\"*In statistics, the k-nearest neighbors algorithm (k-NN) is a non-parametric classification method first developed by Evelyn Fix and Joseph Hodges in 1951, and later expanded by Thomas Cover. It is used for classification and regression.*\" https://en.wikipedia.org/wiki/K-nearest_neighbors_algorithm"
   ]
  },
  {
   "cell_type": "markdown",
   "id": "b6a10a9d-cf17-4bca-b612-21e0eca2d0dd",
   "metadata": {},
   "source": [
    "**K-Nearest Neighbor** is a supervised classification algorithm used to assign a class to new data point. In our case, we are trying to work out, if we had the relevent data points for an unknown wine, could we assign it to one of our three.\n",
    "\n",
    "https://towardsdatascience.com/knn-using-scikit-learn-c6bed765be75"
   ]
  },
  {
   "cell_type": "code",
   "execution_count": 20,
   "id": "af8dfc51-107e-4f56-804f-e1bb7218af8e",
   "metadata": {},
   "outputs": [],
   "source": [
    "# create the classifier\n",
    "knn = nei.KNeighborsClassifier(n_neighbors=5)"
   ]
  },
  {
   "cell_type": "code",
   "execution_count": 21,
   "id": "929221f5-98db-439d-8d24-9313073926bd",
   "metadata": {},
   "outputs": [
    {
     "data": {
      "text/plain": [
       "KNeighborsClassifier()"
      ]
     },
     "execution_count": 21,
     "metadata": {},
     "output_type": "execute_result"
    }
   ],
   "source": [
    "# fit the classifier\n",
    "knn.fit(X, y)"
   ]
  },
  {
   "cell_type": "code",
   "execution_count": 22,
   "id": "1255b955-0f94-4799-820f-5b60c52a7756",
   "metadata": {},
   "outputs": [
    {
     "data": {
      "text/plain": [
       "fixed acidity             5.8000\n",
       "volatile acidity          0.2700\n",
       "citric acid               0.2000\n",
       "residual sugar           14.9500\n",
       "chlorides                 0.0440\n",
       "free sulfur dioxide      22.0000\n",
       "total sulfur dioxide    179.0000\n",
       "density                   0.9962\n",
       "pH                        3.3700\n",
       "sulphates                 0.3700\n",
       "alcohol                  10.2000\n",
       "quality                   5.0000\n",
       "betterQuality             0.0000\n",
       "Name: 34, dtype: float64"
      ]
     },
     "execution_count": 22,
     "metadata": {},
     "output_type": "execute_result"
    }
   ],
   "source": [
    "# pick an entry to test\n",
    "dfnew.loc[34]"
   ]
  },
  {
   "cell_type": "code",
   "execution_count": 23,
   "id": "588f671b-381e-4db8-bcdd-b8a762de0337",
   "metadata": {
    "tags": []
   },
   "outputs": [
    {
     "data": {
      "text/plain": [
       "array([0])"
      ]
     },
     "execution_count": 23,
     "metadata": {},
     "output_type": "execute_result"
    }
   ],
   "source": [
    "# entry test entries values to check\n",
    "knn.predict([[5.8, 0.27, 2.00, 14.95, 0.044, 22, 179, 0.9962, 3.37, 0.37, 10.2]])"
   ]
  },
  {
   "cell_type": "markdown",
   "id": "b6762c8f-5059-40e9-b4de-a0359dc5aae8",
   "metadata": {},
   "source": [
    "Correct!!!"
   ]
  },
  {
   "cell_type": "code",
   "execution_count": 24,
   "id": "24839806-2237-425e-8ec9-aee007d473be",
   "metadata": {},
   "outputs": [
    {
     "data": {
      "text/plain": [
       "0.8579011841567987"
      ]
     },
     "execution_count": 24,
     "metadata": {},
     "output_type": "execute_result"
    }
   ],
   "source": [
    "# checking the accuracy of the training sample\n",
    "knn.score(X, y)"
   ]
  },
  {
   "cell_type": "markdown",
   "id": "4696fa24-3b22-44f9-982f-a845418fbf9f",
   "metadata": {},
   "source": [
    "Not bad!"
   ]
  },
  {
   "cell_type": "markdown",
   "id": "070b5d9d-11f5-4a9e-a125-5298dc80975f",
   "metadata": {},
   "source": [
    "### Evaluate"
   ]
  },
  {
   "cell_type": "code",
   "execution_count": 25,
   "id": "ea74f2bc-36c5-45fa-a0d9-297b334e376a",
   "metadata": {},
   "outputs": [
    {
     "data": {
      "text/plain": [
       "4202"
      ]
     },
     "execution_count": 25,
     "metadata": {},
     "output_type": "execute_result"
    }
   ],
   "source": [
    "# this sees how well it's working\n",
    "# Counts the amount of Trues (1) and adds them up\n",
    "(knn.predict(X) == y).sum()"
   ]
  },
  {
   "cell_type": "markdown",
   "id": "d986c179-12c6-4059-be18-69764263db3d",
   "metadata": {
    "tags": []
   },
   "source": [
    "The total sample was 4898 so this is about 85%. Not too bad but not brilliant either!\n",
    "___"
   ]
  },
  {
   "cell_type": "markdown",
   "id": "6b2c41f9-9cd0-444f-9d8f-971c60f07115",
   "metadata": {},
   "source": [
    "If we change quality to the binary version and run corr again, is there any difference?"
   ]
  },
  {
   "cell_type": "code",
   "execution_count": 26,
   "id": "ec9a6bc1-51b8-4ab1-9d44-cd460d549b94",
   "metadata": {},
   "outputs": [],
   "source": [
    "Z = dfnew.drop(['quality'], axis = 1)"
   ]
  },
  {
   "cell_type": "code",
   "execution_count": 27,
   "id": "0f1bcc7b-48ff-437e-bf0f-a4cfa99bf004",
   "metadata": {},
   "outputs": [
    {
     "data": {
      "text/plain": [
       "<AxesSubplot:>"
      ]
     },
     "execution_count": 27,
     "metadata": {},
     "output_type": "execute_result"
    },
    {
     "data": {
      "image/png": "[encoded data removed]",
      "text/plain": [
       "<Figure size 1080x720 with 2 Axes>"
      ]
     },
     "metadata": {},
     "output_type": "display_data"
    }
   ],
   "source": [
    "corr = Z[Z.columns].corr()\n",
    "sns.heatmap(corr, annot = True, cmap=sns.diverging_palette(220, 20, as_cmap=True))"
   ]
  },
  {
   "cell_type": "markdown",
   "id": "2bcd6760-0f34-4e74-b481-bd2959964edd",
   "metadata": {},
   "source": [
    "<br>\n",
    "\n",
    "### Decision trees and Random forests"
   ]
  },
  {
   "cell_type": "markdown",
   "id": "fd8a5182-6a27-4da1-8e9c-62a81eefac78",
   "metadata": {},
   "source": [
    "We're going to look at decision trees and random forests next. These are ........\n",
    "\n",
    "First we need to process the data a little."
   ]
  },
  {
   "cell_type": "markdown",
   "id": "61d48cfc-43df-4357-8fff-28d096ea0ea9",
   "metadata": {},
   "source": [
    "<br>\n",
    "\n",
    "#### Standardizing the data"
   ]
  },
  {
   "cell_type": "markdown",
   "id": "aabb7605-8e27-4edf-ad09-a8a205d47efe",
   "metadata": {},
   "source": [
    "This transforms the data so that its distribution will have a mean of 0 and a standard deviation of 1. It’s important to standardize your data in order to equalize the range of the data."
   ]
  },
  {
   "cell_type": "code",
   "execution_count": 28,
   "id": "31074a32-122d-49f3-b4cd-298420cc0c63",
   "metadata": {},
   "outputs": [],
   "source": [
    "# standarise the data\n",
    "X_features = X\n",
    "X = StandardScaler().fit_transform(X)"
   ]
  },
  {
   "cell_type": "markdown",
   "id": "b8884e67-cc21-4b33-9604-00bf3d33ff66",
   "metadata": {},
   "source": [
    "<br>\n",
    "\n",
    "#### Splitting the data"
   ]
  },
  {
   "cell_type": "markdown",
   "id": "18d7d5d8-bf6c-4747-bee7-aaa77c68f0d3",
   "metadata": {},
   "source": [
    "We split the data into a training sample and a test sample."
   ]
  },
  {
   "cell_type": "code",
   "execution_count": 29,
   "id": "fb1196b9-0a28-4f44-9fee-cb8646f1e92d",
   "metadata": {},
   "outputs": [],
   "source": [
    "# Splitting the data - https://scikit-learn.org/stable/modules/generated/sklearn.model_selection.train_test_split.html\n",
    "X_train, X_test, y_train, y_test = train_test_split(X, y, test_size=.25, random_state=0)"
   ]
  },
  {
   "cell_type": "code",
   "execution_count": 30,
   "id": "4bd9db2a-4bda-4c3e-96ac-2850dbfe27ae",
   "metadata": {},
   "outputs": [
    {
     "name": "stdout",
     "output_type": "stream",
     "text": [
      "              precision    recall  f1-score   support\n",
      "\n",
      "           0       0.88      0.88      0.88       963\n",
      "           1       0.58      0.58      0.58       262\n",
      "\n",
      "    accuracy                           0.82      1225\n",
      "   macro avg       0.73      0.73      0.73      1225\n",
      "weighted avg       0.82      0.82      0.82      1225\n",
      "\n"
     ]
    }
   ],
   "source": [
    "model1 = DecisionTreeClassifier(random_state=1)\n",
    "model1.fit(X_train, y_train)\n",
    "y_pred1 = model1.predict(X_test)\n",
    "print(classification_report(y_test, y_pred1))"
   ]
  },
  {
   "cell_type": "code",
   "execution_count": 31,
   "id": "d8739fae-9223-4d41-b30b-5c4531f57106",
   "metadata": {},
   "outputs": [
    {
     "name": "stdout",
     "output_type": "stream",
     "text": [
      "              precision    recall  f1-score   support\n",
      "\n",
      "           0       0.88      0.95      0.92       963\n",
      "           1       0.76      0.54      0.63       262\n",
      "\n",
      "    accuracy                           0.87      1225\n",
      "   macro avg       0.82      0.75      0.78      1225\n",
      "weighted avg       0.86      0.87      0.86      1225\n",
      "\n"
     ]
    }
   ],
   "source": [
    "model2 = RandomForestClassifier(random_state=1)\n",
    "model2.fit(X_train, y_train)\n",
    "y_pred2 = model2.predict(X_test)\n",
    "print(classification_report(y_test, y_pred2))"
   ]
  },
  {
   "cell_type": "code",
   "execution_count": 32,
   "id": "5997030a-46ac-432a-9d19-5e85074db558",
   "metadata": {},
   "outputs": [
    {
     "data": {
      "text/plain": [
       "fixed acidity             6.725760\n",
       "volatile acidity          0.265426\n",
       "citric acid               0.326057\n",
       "residual sugar            5.265371\n",
       "chlorides                 0.038160\n",
       "free sulfur dioxide      34.550472\n",
       "total sulfur dioxide    125.245283\n",
       "density                   0.992412\n",
       "pH                        3.214770\n",
       "sulphates                 0.500142\n",
       "alcohol                  11.416022\n",
       "quality                   7.174528\n",
       "betterQuality             1.000000\n",
       "dtype: float64"
      ]
     },
     "execution_count": 32,
     "metadata": {},
     "output_type": "execute_result"
    }
   ],
   "source": [
    "# Filtering df for only good quality\n",
    "df_temp = dfnew[dfnew['betterQuality']==1]\n",
    "df_temp.mean()"
   ]
  },
  {
   "cell_type": "code",
   "execution_count": 33,
   "id": "39c693e5-5c59-4752-b051-c1452fc2dd56",
   "metadata": {},
   "outputs": [
    {
     "data": {
      "text/plain": [
       "fixed acidity             6.891373\n",
       "volatile acidity          0.281794\n",
       "citric acid               0.336513\n",
       "residual sugar            6.704753\n",
       "chlorides                 0.047882\n",
       "free sulfur dioxide      35.517327\n",
       "total sulfur dioxide    141.982934\n",
       "density                   0.994474\n",
       "pH                        3.180865\n",
       "sulphates                 0.486988\n",
       "alcohol                  10.265215\n",
       "quality                   5.519802\n",
       "betterQuality             0.000000\n",
       "dtype: float64"
      ]
     },
     "execution_count": 33,
     "metadata": {},
     "output_type": "execute_result"
    }
   ],
   "source": [
    "# Filtering df for only bad quality\n",
    "df_temp2 = dfnew[dfnew['betterQuality']==0]\n",
    "df_temp2.mean()"
   ]
  },
  {
   "cell_type": "markdown",
   "id": "d86d5c76-eb9f-4dbf-b8fe-fc71d35d55c9",
   "metadata": {},
   "source": [
    "The most notable differences are alcohol, residual sugar, total sulfur dioxide"
   ]
  },
  {
   "cell_type": "markdown",
   "id": "36fdd1cd-4c73-422f-85e6-987db278b84b",
   "metadata": {},
   "source": [
    "<br>\n",
    "\n",
    "---"
   ]
  },
  {
   "cell_type": "markdown",
   "id": "5a0e2710-553e-46d3-af96-920861e5a4ee",
   "metadata": {
    "tags": []
   },
   "source": [
    "#### Test and Train Split"
   ]
  },
  {
   "cell_type": "code",
   "execution_count": 34,
   "id": "7aee13e8-8989-4a5c-9336-cd14a228a327",
   "metadata": {},
   "outputs": [],
   "source": [
    "# Split the data frame in two.\n",
    "train, test = mod.train_test_split(dfnew)"
   ]
  },
  {
   "cell_type": "code",
   "execution_count": 35,
   "id": "28614d52-9089-4422-967a-941f153e84e1",
   "metadata": {},
   "outputs": [
    {
     "data": {
      "text/plain": [
       "3673"
      ]
     },
     "execution_count": 35,
     "metadata": {},
     "output_type": "execute_result"
    }
   ],
   "source": [
    "train.index.size"
   ]
  },
  {
   "cell_type": "code",
   "execution_count": 36,
   "id": "bd344bb1-e24b-4f87-ae8a-dccf667caa5a",
   "metadata": {},
   "outputs": [
    {
     "data": {
      "text/plain": [
       "1225"
      ]
     },
     "execution_count": 36,
     "metadata": {},
     "output_type": "execute_result"
    }
   ],
   "source": [
    "test.index.size"
   ]
  },
  {
   "cell_type": "code",
   "execution_count": 37,
   "id": "b92f2a8e-b259-493b-bc91-dc2279ab2210",
   "metadata": {},
   "outputs": [],
   "source": [
    "good = train[train['betterQuality'] == 0]\n",
    "better = train[train['betterQuality'] == 1]"
   ]
  },
  {
   "cell_type": "code",
   "execution_count": 38,
   "id": "cc1c3828-d27a-4d9d-933c-dd5362c76a44",
   "metadata": {},
   "outputs": [
    {
     "data": {
      "image/png": "[encoded data removed]",
      "text/plain": [
       "<Figure size 1080x720 with 1 Axes>"
      ]
     },
     "metadata": {},
     "output_type": "display_data"
    }
   ],
   "source": [
    "# New plot.\n",
    "fig, ax = plt.subplots()\n",
    "\n",
    "# Scatter plots for training data.\n",
    "ax.scatter(good['alcohol'], good['residual sugar'], marker='o', label='good', color='r')\n",
    "ax.scatter(better['alcohol'], better['residual sugar'], marker='o', label='better', color='g')\n",
    "\n",
    "# Scatter plot for testing data.\n",
    "ax.scatter(test['alcohol'], test['residual sugar'], marker='x', label='Test data', color='k')\n",
    "\n",
    "# Show the legend.\n",
    "ax.set_xlabel('alcohol')\n",
    "ax.set_ylabel('residual sugar')\n",
    "ax.legend();"
   ]
  },
  {
   "cell_type": "markdown",
   "id": "53c5d350-dadf-41f0-a9fe-70c73b51b86c",
   "metadata": {},
   "source": [
    "Looks like an outlier which is skewing the plot a bit!"
   ]
  },
  {
   "cell_type": "markdown",
   "id": "784ee070-3b01-43c5-9036-c8cf64408726",
   "metadata": {},
   "source": [
    "<br>\n",
    "\n",
    "#### Two Dimensions: Inputs and outputs"
   ]
  },
  {
   "cell_type": "code",
   "execution_count": 39,
   "id": "5779c9fc-c052-41dd-8404-530c9dbae484",
   "metadata": {},
   "outputs": [],
   "source": [
    "# Give the inputs and outputs convenient names.\n",
    "inputs, outputs = train[['alcohol', 'residual sugar']], train['betterQuality']\n"
   ]
  },
  {
   "cell_type": "code",
   "execution_count": 40,
   "id": "556c59dc-27bc-4b17-9ff4-69bbee1f6593",
   "metadata": {},
   "outputs": [
    {
     "data": {
      "text/html": [
       "<div>\n",
       "<style scoped>\n",
       "    .dataframe tbody tr th:only-of-type {\n",
       "        vertical-align: middle;\n",
       "    }\n",
       "\n",
       "    .dataframe tbody tr th {\n",
       "        vertical-align: top;\n",
       "    }\n",
       "\n",
       "    .dataframe thead th {\n",
       "        text-align: right;\n",
       "    }\n",
       "</style>\n",
       "<table border=\"1\" class=\"dataframe\">\n",
       "  <thead>\n",
       "    <tr style=\"text-align: right;\">\n",
       "      <th></th>\n",
       "      <th>alcohol</th>\n",
       "      <th>residual sugar</th>\n",
       "    </tr>\n",
       "  </thead>\n",
       "  <tbody>\n",
       "    <tr>\n",
       "      <th>4701</th>\n",
       "      <td>10.1</td>\n",
       "      <td>7.6</td>\n",
       "    </tr>\n",
       "    <tr>\n",
       "      <th>767</th>\n",
       "      <td>10.9</td>\n",
       "      <td>1.6</td>\n",
       "    </tr>\n",
       "    <tr>\n",
       "      <th>1473</th>\n",
       "      <td>10.8</td>\n",
       "      <td>5.9</td>\n",
       "    </tr>\n",
       "    <tr>\n",
       "      <th>4513</th>\n",
       "      <td>11.2</td>\n",
       "      <td>2.8</td>\n",
       "    </tr>\n",
       "    <tr>\n",
       "      <th>2497</th>\n",
       "      <td>8.8</td>\n",
       "      <td>18.1</td>\n",
       "    </tr>\n",
       "  </tbody>\n",
       "</table>\n",
       "</div>"
      ],
      "text/plain": [
       "      alcohol  residual sugar\n",
       "4701     10.1             7.6\n",
       "767      10.9             1.6\n",
       "1473     10.8             5.9\n",
       "4513     11.2             2.8\n",
       "2497      8.8            18.1"
      ]
     },
     "execution_count": 40,
     "metadata": {},
     "output_type": "execute_result"
    }
   ],
   "source": [
    "inputs.head()"
   ]
  },
  {
   "cell_type": "code",
   "execution_count": 41,
   "id": "c80f8763-2628-43b8-973d-c3ba8a6ca7bc",
   "metadata": {},
   "outputs": [
    {
     "data": {
      "text/plain": [
       "4701    0\n",
       "767     0\n",
       "1473    0\n",
       "4513    0\n",
       "2497    0\n",
       "Name: betterQuality, dtype: int64"
      ]
     },
     "execution_count": 41,
     "metadata": {},
     "output_type": "execute_result"
    }
   ],
   "source": [
    "outputs.head()"
   ]
  },
  {
   "cell_type": "markdown",
   "id": "b9ca7459-c626-4b67-9d02-b4ca38a99c64",
   "metadata": {},
   "source": [
    "<br>\n",
    "\n",
    "___\n",
    "\n",
    "## Logistic Regression\n",
    "\n",
    "https://scikit-learn.org/stable/modules/generated/sklearn.linear_model.LogisticRegression.html\n",
    "\n",
    "---"
   ]
  },
  {
   "cell_type": "code",
   "execution_count": 42,
   "id": "8f4259f9-9554-40ae-9905-f0237bda99a8",
   "metadata": {},
   "outputs": [],
   "source": [
    "# X = dfnew[['alcohol', 'residual sugar']]\n",
    "# y = dfnew[['betterQuality']]"
   ]
  },
  {
   "cell_type": "code",
   "execution_count": 43,
   "id": "7a1d2581-7044-4dfc-b222-8e227b61a99a",
   "metadata": {},
   "outputs": [],
   "source": [
    "# # Splitting the data - https://scikit-learn.org/stable/modules/generated/sklearn.model_selection.train_test_split.html\n",
    "# X_train, X_test, y_train, y_test = train_test_split(X, y, random_state=0)"
   ]
  },
  {
   "cell_type": "code",
   "execution_count": 44,
   "id": "1b2753af-3ec6-4937-aab9-6f0374d436ba",
   "metadata": {},
   "outputs": [],
   "source": [
    "# X_train.count()"
   ]
  },
  {
   "cell_type": "code",
   "execution_count": 45,
   "id": "33ce4987-1cfd-45b6-b7d8-ff00f81b2e3d",
   "metadata": {},
   "outputs": [],
   "source": [
    "# inputs, outputs = X_train, y_train"
   ]
  },
  {
   "cell_type": "code",
   "execution_count": 46,
   "id": "cac3a7dd-315f-4def-a26d-ee90bf191b89",
   "metadata": {},
   "outputs": [],
   "source": [
    "# outputs"
   ]
  },
  {
   "cell_type": "code",
   "execution_count": 47,
   "id": "34b48fbc-0bca-4e26-ba27-cc8816d2f112",
   "metadata": {},
   "outputs": [
    {
     "data": {
      "text/plain": [
       "LogisticRegression(random_state=0)"
      ]
     },
     "execution_count": 47,
     "metadata": {},
     "output_type": "execute_result"
    }
   ],
   "source": [
    "# Create a new classifier.\n",
    "lre = lm.LogisticRegression(random_state=0)\n",
    "\n",
    "# Train the classifier on our data.\n",
    "lre.fit(inputs, outputs)"
   ]
  },
  {
   "cell_type": "code",
   "execution_count": 48,
   "id": "841ce785-8b7f-4328-a3d3-74250b6a4dd8",
   "metadata": {},
   "outputs": [
    {
     "data": {
      "text/plain": [
       "array([0, 0, 0, ..., 1, 0, 1])"
      ]
     },
     "execution_count": 48,
     "metadata": {},
     "output_type": "execute_result"
    }
   ],
   "source": [
    "# Ask the classifier to classify the test data.\n",
    "predictions = lre.predict(test[['alcohol', 'residual sugar']])\n",
    "predictions"
   ]
  },
  {
   "cell_type": "code",
   "execution_count": 49,
   "id": "2fee34e8-021f-4197-bc21-dea0067359e7",
   "metadata": {
    "tags": []
   },
   "outputs": [
    {
     "data": {
      "text/plain": [
       "1865     True\n",
       "1574     True\n",
       "61       True\n",
       "4714    False\n",
       "987      True\n",
       "        ...  \n",
       "1181     True\n",
       "4882     True\n",
       "4756     True\n",
       "1091     True\n",
       "3458     True\n",
       "Name: betterQuality, Length: 1225, dtype: bool"
      ]
     },
     "execution_count": 49,
     "metadata": {},
     "output_type": "execute_result"
    }
   ],
   "source": [
    "# Eyeball the misclassifications.\n",
    "predictions == test['betterQuality']"
   ]
  },
  {
   "cell_type": "code",
   "execution_count": 50,
   "id": "693658bc-04e1-4ae6-b2f9-374673b1dc84",
   "metadata": {},
   "outputs": [
    {
     "data": {
      "text/plain": [
       "0.8"
      ]
     },
     "execution_count": 50,
     "metadata": {},
     "output_type": "execute_result"
    }
   ],
   "source": [
    "# What proportion were correct?\n",
    "lre.score(test[['alcohol', 'residual sugar']], test['betterQuality'])"
   ]
  },
  {
   "cell_type": "code",
   "execution_count": 51,
   "id": "930ed570-da29-4e04-9947-d616fbf0be62",
   "metadata": {},
   "outputs": [
    {
     "name": "stderr",
     "output_type": "stream",
     "text": [
      "<ipython-input-51-7f2fd5111565>:2: SettingWithCopyWarning: \n",
      "A value is trying to be set on a copy of a slice from a DataFrame.\n",
      "Try using .loc[row_indexer,col_indexer] = value instead\n",
      "\n",
      "See the caveats in the documentation: https://pandas.pydata.org/pandas-docs/stable/user_guide/indexing.html#returning-a-view-versus-a-copy\n",
      "  test['predicted'] = predictions\n"
     ]
    },
    {
     "data": {
      "text/html": [
       "<div>\n",
       "<style scoped>\n",
       "    .dataframe tbody tr th:only-of-type {\n",
       "        vertical-align: middle;\n",
       "    }\n",
       "\n",
       "    .dataframe tbody tr th {\n",
       "        vertical-align: top;\n",
       "    }\n",
       "\n",
       "    .dataframe thead th {\n",
       "        text-align: right;\n",
       "    }\n",
       "</style>\n",
       "<table border=\"1\" class=\"dataframe\">\n",
       "  <thead>\n",
       "    <tr style=\"text-align: right;\">\n",
       "      <th></th>\n",
       "      <th>fixed acidity</th>\n",
       "      <th>volatile acidity</th>\n",
       "      <th>citric acid</th>\n",
       "      <th>residual sugar</th>\n",
       "      <th>chlorides</th>\n",
       "      <th>free sulfur dioxide</th>\n",
       "      <th>total sulfur dioxide</th>\n",
       "      <th>density</th>\n",
       "      <th>pH</th>\n",
       "      <th>sulphates</th>\n",
       "      <th>alcohol</th>\n",
       "      <th>quality</th>\n",
       "      <th>betterQuality</th>\n",
       "      <th>predicted</th>\n",
       "    </tr>\n",
       "  </thead>\n",
       "  <tbody>\n",
       "    <tr>\n",
       "      <th>1865</th>\n",
       "      <td>7.6</td>\n",
       "      <td>0.36</td>\n",
       "      <td>0.44</td>\n",
       "      <td>8.30</td>\n",
       "      <td>0.255</td>\n",
       "      <td>28.0</td>\n",
       "      <td>142.0</td>\n",
       "      <td>0.99580</td>\n",
       "      <td>3.12</td>\n",
       "      <td>0.43</td>\n",
       "      <td>10.2</td>\n",
       "      <td>6</td>\n",
       "      <td>0</td>\n",
       "      <td>0</td>\n",
       "    </tr>\n",
       "    <tr>\n",
       "      <th>1574</th>\n",
       "      <td>8.5</td>\n",
       "      <td>0.17</td>\n",
       "      <td>0.49</td>\n",
       "      <td>8.80</td>\n",
       "      <td>0.048</td>\n",
       "      <td>23.0</td>\n",
       "      <td>108.0</td>\n",
       "      <td>0.99470</td>\n",
       "      <td>2.88</td>\n",
       "      <td>0.34</td>\n",
       "      <td>10.5</td>\n",
       "      <td>4</td>\n",
       "      <td>0</td>\n",
       "      <td>0</td>\n",
       "    </tr>\n",
       "    <tr>\n",
       "      <th>61</th>\n",
       "      <td>6.0</td>\n",
       "      <td>0.19</td>\n",
       "      <td>0.26</td>\n",
       "      <td>12.40</td>\n",
       "      <td>0.048</td>\n",
       "      <td>50.0</td>\n",
       "      <td>147.0</td>\n",
       "      <td>0.99720</td>\n",
       "      <td>3.30</td>\n",
       "      <td>0.36</td>\n",
       "      <td>8.9</td>\n",
       "      <td>6</td>\n",
       "      <td>0</td>\n",
       "      <td>0</td>\n",
       "    </tr>\n",
       "    <tr>\n",
       "      <th>4714</th>\n",
       "      <td>6.1</td>\n",
       "      <td>0.22</td>\n",
       "      <td>0.40</td>\n",
       "      <td>1.85</td>\n",
       "      <td>0.031</td>\n",
       "      <td>25.0</td>\n",
       "      <td>111.0</td>\n",
       "      <td>0.98966</td>\n",
       "      <td>3.03</td>\n",
       "      <td>0.30</td>\n",
       "      <td>11.8</td>\n",
       "      <td>7</td>\n",
       "      <td>1</td>\n",
       "      <td>0</td>\n",
       "    </tr>\n",
       "    <tr>\n",
       "      <th>987</th>\n",
       "      <td>7.4</td>\n",
       "      <td>0.30</td>\n",
       "      <td>0.30</td>\n",
       "      <td>5.20</td>\n",
       "      <td>0.053</td>\n",
       "      <td>45.0</td>\n",
       "      <td>163.0</td>\n",
       "      <td>0.99410</td>\n",
       "      <td>3.12</td>\n",
       "      <td>0.45</td>\n",
       "      <td>10.3</td>\n",
       "      <td>6</td>\n",
       "      <td>0</td>\n",
       "      <td>0</td>\n",
       "    </tr>\n",
       "  </tbody>\n",
       "</table>\n",
       "</div>"
      ],
      "text/plain": [
       "      fixed acidity  volatile acidity  citric acid  residual sugar  chlorides  \\\n",
       "1865            7.6              0.36         0.44            8.30      0.255   \n",
       "1574            8.5              0.17         0.49            8.80      0.048   \n",
       "61              6.0              0.19         0.26           12.40      0.048   \n",
       "4714            6.1              0.22         0.40            1.85      0.031   \n",
       "987             7.4              0.30         0.30            5.20      0.053   \n",
       "\n",
       "      free sulfur dioxide  total sulfur dioxide  density    pH  sulphates  \\\n",
       "1865                 28.0                 142.0  0.99580  3.12       0.43   \n",
       "1574                 23.0                 108.0  0.99470  2.88       0.34   \n",
       "61                   50.0                 147.0  0.99720  3.30       0.36   \n",
       "4714                 25.0                 111.0  0.98966  3.03       0.30   \n",
       "987                  45.0                 163.0  0.99410  3.12       0.45   \n",
       "\n",
       "      alcohol  quality  betterQuality  predicted  \n",
       "1865     10.2        6              0          0  \n",
       "1574     10.5        4              0          0  \n",
       "61        8.9        6              0          0  \n",
       "4714     11.8        7              1          0  \n",
       "987      10.3        6              0          0  "
      ]
     },
     "execution_count": 51,
     "metadata": {},
     "output_type": "execute_result"
    }
   ],
   "source": [
    "# Append a column to the test data frame with the predictions.\n",
    "test['predicted'] = predictions\n",
    "test.head()"
   ]
  },
  {
   "cell_type": "code",
   "execution_count": 52,
   "id": "0f0521c2-ffb7-4b5a-bde8-4e862d1b3ad3",
   "metadata": {},
   "outputs": [
    {
     "data": {
      "text/html": [
       "<div>\n",
       "<style scoped>\n",
       "    .dataframe tbody tr th:only-of-type {\n",
       "        vertical-align: middle;\n",
       "    }\n",
       "\n",
       "    .dataframe tbody tr th {\n",
       "        vertical-align: top;\n",
       "    }\n",
       "\n",
       "    .dataframe thead th {\n",
       "        text-align: right;\n",
       "    }\n",
       "</style>\n",
       "<table border=\"1\" class=\"dataframe\">\n",
       "  <thead>\n",
       "    <tr style=\"text-align: right;\">\n",
       "      <th></th>\n",
       "      <th>fixed acidity</th>\n",
       "      <th>volatile acidity</th>\n",
       "      <th>citric acid</th>\n",
       "      <th>residual sugar</th>\n",
       "      <th>chlorides</th>\n",
       "      <th>free sulfur dioxide</th>\n",
       "      <th>total sulfur dioxide</th>\n",
       "      <th>density</th>\n",
       "      <th>pH</th>\n",
       "      <th>sulphates</th>\n",
       "      <th>alcohol</th>\n",
       "      <th>quality</th>\n",
       "      <th>betterQuality</th>\n",
       "      <th>predicted</th>\n",
       "    </tr>\n",
       "  </thead>\n",
       "  <tbody>\n",
       "    <tr>\n",
       "      <th>4714</th>\n",
       "      <td>6.1</td>\n",
       "      <td>0.22</td>\n",
       "      <td>0.40</td>\n",
       "      <td>1.85</td>\n",
       "      <td>0.031</td>\n",
       "      <td>25.0</td>\n",
       "      <td>111.0</td>\n",
       "      <td>0.98966</td>\n",
       "      <td>3.03</td>\n",
       "      <td>0.30</td>\n",
       "      <td>11.8</td>\n",
       "      <td>7</td>\n",
       "      <td>1</td>\n",
       "      <td>0</td>\n",
       "    </tr>\n",
       "    <tr>\n",
       "      <th>2810</th>\n",
       "      <td>7.8</td>\n",
       "      <td>0.26</td>\n",
       "      <td>0.31</td>\n",
       "      <td>3.60</td>\n",
       "      <td>0.025</td>\n",
       "      <td>22.0</td>\n",
       "      <td>100.0</td>\n",
       "      <td>0.99066</td>\n",
       "      <td>2.99</td>\n",
       "      <td>0.47</td>\n",
       "      <td>12.1</td>\n",
       "      <td>7</td>\n",
       "      <td>1</td>\n",
       "      <td>0</td>\n",
       "    </tr>\n",
       "    <tr>\n",
       "      <th>1981</th>\n",
       "      <td>7.6</td>\n",
       "      <td>0.20</td>\n",
       "      <td>0.30</td>\n",
       "      <td>14.20</td>\n",
       "      <td>0.056</td>\n",
       "      <td>53.0</td>\n",
       "      <td>212.5</td>\n",
       "      <td>0.99900</td>\n",
       "      <td>3.14</td>\n",
       "      <td>0.46</td>\n",
       "      <td>8.9</td>\n",
       "      <td>8</td>\n",
       "      <td>1</td>\n",
       "      <td>0</td>\n",
       "    </tr>\n",
       "    <tr>\n",
       "      <th>1199</th>\n",
       "      <td>7.4</td>\n",
       "      <td>0.25</td>\n",
       "      <td>0.37</td>\n",
       "      <td>6.90</td>\n",
       "      <td>0.020</td>\n",
       "      <td>14.0</td>\n",
       "      <td>93.0</td>\n",
       "      <td>0.99390</td>\n",
       "      <td>3.00</td>\n",
       "      <td>0.48</td>\n",
       "      <td>10.7</td>\n",
       "      <td>7</td>\n",
       "      <td>1</td>\n",
       "      <td>0</td>\n",
       "    </tr>\n",
       "    <tr>\n",
       "      <th>3442</th>\n",
       "      <td>5.9</td>\n",
       "      <td>0.27</td>\n",
       "      <td>0.27</td>\n",
       "      <td>5.00</td>\n",
       "      <td>0.035</td>\n",
       "      <td>14.0</td>\n",
       "      <td>97.0</td>\n",
       "      <td>0.99058</td>\n",
       "      <td>3.10</td>\n",
       "      <td>0.33</td>\n",
       "      <td>11.8</td>\n",
       "      <td>7</td>\n",
       "      <td>1</td>\n",
       "      <td>0</td>\n",
       "    </tr>\n",
       "    <tr>\n",
       "      <th>...</th>\n",
       "      <td>...</td>\n",
       "      <td>...</td>\n",
       "      <td>...</td>\n",
       "      <td>...</td>\n",
       "      <td>...</td>\n",
       "      <td>...</td>\n",
       "      <td>...</td>\n",
       "      <td>...</td>\n",
       "      <td>...</td>\n",
       "      <td>...</td>\n",
       "      <td>...</td>\n",
       "      <td>...</td>\n",
       "      <td>...</td>\n",
       "      <td>...</td>\n",
       "    </tr>\n",
       "    <tr>\n",
       "      <th>3978</th>\n",
       "      <td>6.5</td>\n",
       "      <td>0.29</td>\n",
       "      <td>0.53</td>\n",
       "      <td>1.70</td>\n",
       "      <td>0.040</td>\n",
       "      <td>41.0</td>\n",
       "      <td>192.0</td>\n",
       "      <td>0.99220</td>\n",
       "      <td>3.26</td>\n",
       "      <td>0.59</td>\n",
       "      <td>10.4</td>\n",
       "      <td>7</td>\n",
       "      <td>1</td>\n",
       "      <td>0</td>\n",
       "    </tr>\n",
       "    <tr>\n",
       "      <th>3424</th>\n",
       "      <td>6.4</td>\n",
       "      <td>0.32</td>\n",
       "      <td>0.27</td>\n",
       "      <td>4.90</td>\n",
       "      <td>0.034</td>\n",
       "      <td>18.0</td>\n",
       "      <td>122.0</td>\n",
       "      <td>0.99160</td>\n",
       "      <td>3.36</td>\n",
       "      <td>0.71</td>\n",
       "      <td>12.5</td>\n",
       "      <td>6</td>\n",
       "      <td>0</td>\n",
       "      <td>1</td>\n",
       "    </tr>\n",
       "    <tr>\n",
       "      <th>3908</th>\n",
       "      <td>6.2</td>\n",
       "      <td>0.39</td>\n",
       "      <td>0.24</td>\n",
       "      <td>4.80</td>\n",
       "      <td>0.037</td>\n",
       "      <td>45.0</td>\n",
       "      <td>138.0</td>\n",
       "      <td>0.99174</td>\n",
       "      <td>3.23</td>\n",
       "      <td>0.43</td>\n",
       "      <td>11.2</td>\n",
       "      <td>7</td>\n",
       "      <td>1</td>\n",
       "      <td>0</td>\n",
       "    </tr>\n",
       "    <tr>\n",
       "      <th>880</th>\n",
       "      <td>7.1</td>\n",
       "      <td>0.21</td>\n",
       "      <td>0.32</td>\n",
       "      <td>2.20</td>\n",
       "      <td>0.037</td>\n",
       "      <td>28.0</td>\n",
       "      <td>141.0</td>\n",
       "      <td>0.99300</td>\n",
       "      <td>3.20</td>\n",
       "      <td>0.57</td>\n",
       "      <td>10.0</td>\n",
       "      <td>7</td>\n",
       "      <td>1</td>\n",
       "      <td>0</td>\n",
       "    </tr>\n",
       "    <tr>\n",
       "      <th>3710</th>\n",
       "      <td>4.7</td>\n",
       "      <td>0.67</td>\n",
       "      <td>0.09</td>\n",
       "      <td>1.00</td>\n",
       "      <td>0.020</td>\n",
       "      <td>5.0</td>\n",
       "      <td>9.0</td>\n",
       "      <td>0.98722</td>\n",
       "      <td>3.30</td>\n",
       "      <td>0.34</td>\n",
       "      <td>13.6</td>\n",
       "      <td>5</td>\n",
       "      <td>0</td>\n",
       "      <td>1</td>\n",
       "    </tr>\n",
       "  </tbody>\n",
       "</table>\n",
       "<p>245 rows × 14 columns</p>\n",
       "</div>"
      ],
      "text/plain": [
       "      fixed acidity  volatile acidity  citric acid  residual sugar  chlorides  \\\n",
       "4714            6.1              0.22         0.40            1.85      0.031   \n",
       "2810            7.8              0.26         0.31            3.60      0.025   \n",
       "1981            7.6              0.20         0.30           14.20      0.056   \n",
       "1199            7.4              0.25         0.37            6.90      0.020   \n",
       "3442            5.9              0.27         0.27            5.00      0.035   \n",
       "...             ...               ...          ...             ...        ...   \n",
       "3978            6.5              0.29         0.53            1.70      0.040   \n",
       "3424            6.4              0.32         0.27            4.90      0.034   \n",
       "3908            6.2              0.39         0.24            4.80      0.037   \n",
       "880             7.1              0.21         0.32            2.20      0.037   \n",
       "3710            4.7              0.67         0.09            1.00      0.020   \n",
       "\n",
       "      free sulfur dioxide  total sulfur dioxide  density    pH  sulphates  \\\n",
       "4714                 25.0                 111.0  0.98966  3.03       0.30   \n",
       "2810                 22.0                 100.0  0.99066  2.99       0.47   \n",
       "1981                 53.0                 212.5  0.99900  3.14       0.46   \n",
       "1199                 14.0                  93.0  0.99390  3.00       0.48   \n",
       "3442                 14.0                  97.0  0.99058  3.10       0.33   \n",
       "...                   ...                   ...      ...   ...        ...   \n",
       "3978                 41.0                 192.0  0.99220  3.26       0.59   \n",
       "3424                 18.0                 122.0  0.99160  3.36       0.71   \n",
       "3908                 45.0                 138.0  0.99174  3.23       0.43   \n",
       "880                  28.0                 141.0  0.99300  3.20       0.57   \n",
       "3710                  5.0                   9.0  0.98722  3.30       0.34   \n",
       "\n",
       "      alcohol  quality  betterQuality  predicted  \n",
       "4714     11.8        7              1          0  \n",
       "2810     12.1        7              1          0  \n",
       "1981      8.9        8              1          0  \n",
       "1199     10.7        7              1          0  \n",
       "3442     11.8        7              1          0  \n",
       "...       ...      ...            ...        ...  \n",
       "3978     10.4        7              1          0  \n",
       "3424     12.5        6              0          1  \n",
       "3908     11.2        7              1          0  \n",
       "880      10.0        7              1          0  \n",
       "3710     13.6        5              0          1  \n",
       "\n",
       "[245 rows x 14 columns]"
      ]
     },
     "execution_count": 52,
     "metadata": {},
     "output_type": "execute_result"
    }
   ],
   "source": [
    "# Show the misclassified data.\n",
    "misclass = test[test['predicted'] != test['betterQuality']]\n",
    "misclass"
   ]
  },
  {
   "cell_type": "code",
   "execution_count": 53,
   "id": "3579056d-efa2-49b6-a9f8-38fbb2de900b",
   "metadata": {},
   "outputs": [
    {
     "data": {
      "text/html": [
       "<div>\n",
       "<style scoped>\n",
       "    .dataframe tbody tr th:only-of-type {\n",
       "        vertical-align: middle;\n",
       "    }\n",
       "\n",
       "    .dataframe tbody tr th {\n",
       "        vertical-align: top;\n",
       "    }\n",
       "\n",
       "    .dataframe thead th {\n",
       "        text-align: right;\n",
       "    }\n",
       "</style>\n",
       "<table border=\"1\" class=\"dataframe\">\n",
       "  <thead>\n",
       "    <tr style=\"text-align: right;\">\n",
       "      <th></th>\n",
       "      <th>fixed acidity</th>\n",
       "      <th>volatile acidity</th>\n",
       "      <th>citric acid</th>\n",
       "      <th>residual sugar</th>\n",
       "      <th>chlorides</th>\n",
       "      <th>free sulfur dioxide</th>\n",
       "      <th>total sulfur dioxide</th>\n",
       "      <th>density</th>\n",
       "      <th>pH</th>\n",
       "      <th>sulphates</th>\n",
       "      <th>alcohol</th>\n",
       "      <th>quality</th>\n",
       "    </tr>\n",
       "    <tr>\n",
       "      <th>betterQuality</th>\n",
       "      <th></th>\n",
       "      <th></th>\n",
       "      <th></th>\n",
       "      <th></th>\n",
       "      <th></th>\n",
       "      <th></th>\n",
       "      <th></th>\n",
       "      <th></th>\n",
       "      <th></th>\n",
       "      <th></th>\n",
       "      <th></th>\n",
       "      <th></th>\n",
       "    </tr>\n",
       "  </thead>\n",
       "  <tbody>\n",
       "    <tr>\n",
       "      <th>0</th>\n",
       "      <td>6.898147</td>\n",
       "      <td>0.279641</td>\n",
       "      <td>0.338820</td>\n",
       "      <td>6.749061</td>\n",
       "      <td>0.047895</td>\n",
       "      <td>35.499480</td>\n",
       "      <td>142.031575</td>\n",
       "      <td>0.994500</td>\n",
       "      <td>3.179761</td>\n",
       "      <td>0.487522</td>\n",
       "      <td>10.25422</td>\n",
       "      <td>5.530534</td>\n",
       "    </tr>\n",
       "    <tr>\n",
       "      <th>1</th>\n",
       "      <td>6.725987</td>\n",
       "      <td>0.266519</td>\n",
       "      <td>0.325461</td>\n",
       "      <td>5.273127</td>\n",
       "      <td>0.038359</td>\n",
       "      <td>34.350822</td>\n",
       "      <td>125.471555</td>\n",
       "      <td>0.992448</td>\n",
       "      <td>3.216253</td>\n",
       "      <td>0.501113</td>\n",
       "      <td>11.39217</td>\n",
       "      <td>7.166877</td>\n",
       "    </tr>\n",
       "  </tbody>\n",
       "</table>\n",
       "</div>"
      ],
      "text/plain": [
       "               fixed acidity  volatile acidity  citric acid  residual sugar  \\\n",
       "betterQuality                                                                 \n",
       "0                   6.898147          0.279641     0.338820        6.749061   \n",
       "1                   6.725987          0.266519     0.325461        5.273127   \n",
       "\n",
       "               chlorides  free sulfur dioxide  total sulfur dioxide   density  \\\n",
       "betterQuality                                                                   \n",
       "0               0.047895            35.499480            142.031575  0.994500   \n",
       "1               0.038359            34.350822            125.471555  0.992448   \n",
       "\n",
       "                     pH  sulphates   alcohol   quality  \n",
       "betterQuality                                           \n",
       "0              3.179761   0.487522  10.25422  5.530534  \n",
       "1              3.216253   0.501113  11.39217  7.166877  "
      ]
     },
     "execution_count": 53,
     "metadata": {},
     "output_type": "execute_result"
    }
   ],
   "source": [
    "# Eyeball the descriptive statistics for the species\n",
    "train.groupby('betterQuality').mean()"
   ]
  },
  {
   "cell_type": "code",
   "execution_count": 54,
   "id": "041fadab-4d02-4d6d-a4a1-f6c3aa9a69a6",
   "metadata": {},
   "outputs": [
    {
     "ename": "KeyError",
     "evalue": "'betterQuality'",
     "output_type": "error",
     "traceback": [
      "\u001b[0;31m---------------------------------------------------------------------------\u001b[0m",
      "\u001b[0;31mKeyError\u001b[0m                                  Traceback (most recent call last)",
      "\u001b[0;32m<ipython-input-54-d52e396eaff9>\u001b[0m in \u001b[0;36m<module>\u001b[0;34m\u001b[0m\n\u001b[1;32m      3\u001b[0m \u001b[0;34m\u001b[0m\u001b[0m\n\u001b[1;32m      4\u001b[0m \u001b[0;31m# Plot the training data\u001b[0m\u001b[0;34m\u001b[0m\u001b[0;34m\u001b[0m\u001b[0;34m\u001b[0m\u001b[0m\n\u001b[0;32m----> 5\u001b[0;31m \u001b[0;32mfor\u001b[0m \u001b[0mquality\u001b[0m\u001b[0;34m,\u001b[0m \u001b[0mdata\u001b[0m \u001b[0;32min\u001b[0m \u001b[0mdf\u001b[0m\u001b[0;34m.\u001b[0m\u001b[0mgroupby\u001b[0m\u001b[0;34m(\u001b[0m\u001b[0;34m'betterQuality'\u001b[0m\u001b[0;34m)\u001b[0m\u001b[0;34m:\u001b[0m\u001b[0;34m\u001b[0m\u001b[0;34m\u001b[0m\u001b[0m\n\u001b[0m\u001b[1;32m      6\u001b[0m     \u001b[0max\u001b[0m\u001b[0;34m.\u001b[0m\u001b[0mscatter\u001b[0m\u001b[0;34m(\u001b[0m\u001b[0mdata\u001b[0m\u001b[0;34m[\u001b[0m\u001b[0;34m'alcohol'\u001b[0m\u001b[0;34m]\u001b[0m\u001b[0;34m,\u001b[0m \u001b[0mdata\u001b[0m\u001b[0;34m[\u001b[0m\u001b[0;34m'residual sugar'\u001b[0m\u001b[0;34m]\u001b[0m\u001b[0;34m,\u001b[0m \u001b[0mlabel\u001b[0m\u001b[0;34m=\u001b[0m\u001b[0mquality\u001b[0m\u001b[0;34m)\u001b[0m\u001b[0;34m\u001b[0m\u001b[0;34m\u001b[0m\u001b[0m\n\u001b[1;32m      7\u001b[0m \u001b[0;34m\u001b[0m\u001b[0m\n",
      "\u001b[0;32m~/Desktop/Ananconda/anaconda3/lib/python3.8/site-packages/pandas/core/frame.py\u001b[0m in \u001b[0;36mgroupby\u001b[0;34m(self, by, axis, level, as_index, sort, group_keys, squeeze, observed, dropna)\u001b[0m\n\u001b[1;32m   6715\u001b[0m         \u001b[0maxis\u001b[0m \u001b[0;34m=\u001b[0m \u001b[0mself\u001b[0m\u001b[0;34m.\u001b[0m\u001b[0m_get_axis_number\u001b[0m\u001b[0;34m(\u001b[0m\u001b[0maxis\u001b[0m\u001b[0;34m)\u001b[0m\u001b[0;34m\u001b[0m\u001b[0;34m\u001b[0m\u001b[0m\n\u001b[1;32m   6716\u001b[0m \u001b[0;34m\u001b[0m\u001b[0m\n\u001b[0;32m-> 6717\u001b[0;31m         return DataFrameGroupBy(\n\u001b[0m\u001b[1;32m   6718\u001b[0m             \u001b[0mobj\u001b[0m\u001b[0;34m=\u001b[0m\u001b[0mself\u001b[0m\u001b[0;34m,\u001b[0m\u001b[0;34m\u001b[0m\u001b[0;34m\u001b[0m\u001b[0m\n\u001b[1;32m   6719\u001b[0m             \u001b[0mkeys\u001b[0m\u001b[0;34m=\u001b[0m\u001b[0mby\u001b[0m\u001b[0;34m,\u001b[0m\u001b[0;34m\u001b[0m\u001b[0;34m\u001b[0m\u001b[0m\n",
      "\u001b[0;32m~/Desktop/Ananconda/anaconda3/lib/python3.8/site-packages/pandas/core/groupby/groupby.py\u001b[0m in \u001b[0;36m__init__\u001b[0;34m(self, obj, keys, axis, level, grouper, exclusions, selection, as_index, sort, group_keys, squeeze, observed, mutated, dropna)\u001b[0m\n\u001b[1;32m    558\u001b[0m             \u001b[0;32mfrom\u001b[0m \u001b[0mpandas\u001b[0m\u001b[0;34m.\u001b[0m\u001b[0mcore\u001b[0m\u001b[0;34m.\u001b[0m\u001b[0mgroupby\u001b[0m\u001b[0;34m.\u001b[0m\u001b[0mgrouper\u001b[0m \u001b[0;32mimport\u001b[0m \u001b[0mget_grouper\u001b[0m\u001b[0;34m\u001b[0m\u001b[0;34m\u001b[0m\u001b[0m\n\u001b[1;32m    559\u001b[0m \u001b[0;34m\u001b[0m\u001b[0m\n\u001b[0;32m--> 560\u001b[0;31m             grouper, exclusions, obj = get_grouper(\n\u001b[0m\u001b[1;32m    561\u001b[0m                 \u001b[0mobj\u001b[0m\u001b[0;34m,\u001b[0m\u001b[0;34m\u001b[0m\u001b[0;34m\u001b[0m\u001b[0m\n\u001b[1;32m    562\u001b[0m                 \u001b[0mkeys\u001b[0m\u001b[0;34m,\u001b[0m\u001b[0;34m\u001b[0m\u001b[0;34m\u001b[0m\u001b[0m\n",
      "\u001b[0;32m~/Desktop/Ananconda/anaconda3/lib/python3.8/site-packages/pandas/core/groupby/grouper.py\u001b[0m in \u001b[0;36mget_grouper\u001b[0;34m(obj, key, axis, level, sort, observed, mutated, validate, dropna)\u001b[0m\n\u001b[1;32m    809\u001b[0m                 \u001b[0min_axis\u001b[0m\u001b[0;34m,\u001b[0m \u001b[0mname\u001b[0m\u001b[0;34m,\u001b[0m \u001b[0mlevel\u001b[0m\u001b[0;34m,\u001b[0m \u001b[0mgpr\u001b[0m \u001b[0;34m=\u001b[0m \u001b[0;32mFalse\u001b[0m\u001b[0;34m,\u001b[0m \u001b[0;32mNone\u001b[0m\u001b[0;34m,\u001b[0m \u001b[0mgpr\u001b[0m\u001b[0;34m,\u001b[0m \u001b[0;32mNone\u001b[0m\u001b[0;34m\u001b[0m\u001b[0;34m\u001b[0m\u001b[0m\n\u001b[1;32m    810\u001b[0m             \u001b[0;32melse\u001b[0m\u001b[0;34m:\u001b[0m\u001b[0;34m\u001b[0m\u001b[0;34m\u001b[0m\u001b[0m\n\u001b[0;32m--> 811\u001b[0;31m                 \u001b[0;32mraise\u001b[0m \u001b[0mKeyError\u001b[0m\u001b[0;34m(\u001b[0m\u001b[0mgpr\u001b[0m\u001b[0;34m)\u001b[0m\u001b[0;34m\u001b[0m\u001b[0;34m\u001b[0m\u001b[0m\n\u001b[0m\u001b[1;32m    812\u001b[0m         \u001b[0;32melif\u001b[0m \u001b[0misinstance\u001b[0m\u001b[0;34m(\u001b[0m\u001b[0mgpr\u001b[0m\u001b[0;34m,\u001b[0m \u001b[0mGrouper\u001b[0m\u001b[0;34m)\u001b[0m \u001b[0;32mand\u001b[0m \u001b[0mgpr\u001b[0m\u001b[0;34m.\u001b[0m\u001b[0mkey\u001b[0m \u001b[0;32mis\u001b[0m \u001b[0;32mnot\u001b[0m \u001b[0;32mNone\u001b[0m\u001b[0;34m:\u001b[0m\u001b[0;34m\u001b[0m\u001b[0;34m\u001b[0m\u001b[0m\n\u001b[1;32m    813\u001b[0m             \u001b[0;31m# Add key to exclusions\u001b[0m\u001b[0;34m\u001b[0m\u001b[0;34m\u001b[0m\u001b[0;34m\u001b[0m\u001b[0m\n",
      "\u001b[0;31mKeyError\u001b[0m: 'betterQuality'"
     ]
    },
    {
     "data": {
      "image/png": "[encoded data removed]",
      "text/plain": [
       "<Figure size 1080x720 with 1 Axes>"
      ]
     },
     "metadata": {},
     "output_type": "display_data"
    }
   ],
   "source": [
    "# New plot.\n",
    "fig, ax = plt.subplots()\n",
    "\n",
    "# Plot the training data\n",
    "for quality, data in df.groupby('betterQuality'):\n",
    "    ax.scatter(data['alcohol'], data['residual sugar'], label=quality)\n",
    "\n",
    "# Plot misclassified.\n",
    "ax.scatter(misclass['alcohol'], misclass['residual sugar'], s=200, facecolor='none', edgecolor='r', label='Misclassified')\n",
    "\n",
    "ax.set_xlabel('alcohol')\n",
    "ax.set_ylabel('residual sugar')\n",
    "ax.legend();"
   ]
  },
  {
   "cell_type": "code",
   "execution_count": null,
   "id": "e315bc7c-5eb0-4fb4-afac-eb23179dae33",
   "metadata": {},
   "outputs": [],
   "source": []
  },
  {
   "cell_type": "code",
   "execution_count": null,
   "id": "e34bcf9a-ae9d-4d27-8089-135d92e9405a",
   "metadata": {},
   "outputs": [],
   "source": []
  },
  {
   "cell_type": "code",
   "execution_count": null,
   "id": "a7ee98ed-24f5-497e-892e-79700361f40f",
   "metadata": {},
   "outputs": [],
   "source": []
  },
  {
   "cell_type": "code",
   "execution_count": null,
   "id": "8cbfacb8-6d8f-435f-bf27-dca2ed1bf14e",
   "metadata": {},
   "outputs": [],
   "source": []
  },
  {
   "cell_type": "markdown",
   "id": "f46201ce-deb0-4fcf-9788-17add2ca5eaf",
   "metadata": {},
   "source": [
    "---\n",
    "**need to go back over this stuff as it doesn't seem to be working!**"
   ]
  },
  {
   "cell_type": "code",
   "execution_count": null,
   "id": "2f7dbe3a-997a-4599-9645-6028fd6b5756",
   "metadata": {},
   "outputs": [],
   "source": [
    "# from sklearn import datasets\n",
    "\n",
    "# from sklearn.svm import SVC\n",
    "# df = datasets.load_wine()\n",
    "# clf = SVC()\n",
    "# clf.fit(df.data, df.target)"
   ]
  },
  {
   "cell_type": "code",
   "execution_count": null,
   "id": "1c450d3e-a219-4ff7-97e6-a00b1bef3779",
   "metadata": {},
   "outputs": [],
   "source": [
    "# list(clf.predict(df.data[:3]))\n"
   ]
  },
  {
   "cell_type": "code",
   "execution_count": null,
   "id": "a9f2bc2b-68c7-4dc3-8bf1-207eab226ac4",
   "metadata": {},
   "outputs": [],
   "source": [
    "# clf.fit(df.data, df.target_names[df.target])"
   ]
  },
  {
   "cell_type": "code",
   "execution_count": null,
   "id": "8afe451d-5d71-45be-b168-de1dcc4aaaaa",
   "metadata": {},
   "outputs": [],
   "source": [
    "# list(clf.predict(df.data[:3]))"
   ]
  },
  {
   "cell_type": "markdown",
   "id": "f7c866d5-a636-4e65-bbee-bc21353319cc",
   "metadata": {},
   "source": [
    "**Not quite sure what's happening here!**"
   ]
  },
  {
   "cell_type": "code",
   "execution_count": null,
   "id": "8906a0b9-187e-4c72-a746-af692f266c4d",
   "metadata": {},
   "outputs": [],
   "source": [
    "# from sklearn.datasets import load_wine\n",
    "# X, y = load_wine(return_X_y=True)"
   ]
  },
  {
   "cell_type": "code",
   "execution_count": null,
   "id": "94cd72e6-7415-4327-875d-f36666303137",
   "metadata": {},
   "outputs": [],
   "source": [
    "# clf = SVC()\n",
    "# clf.set_params(kernel='linear').fit(X, y)"
   ]
  },
  {
   "cell_type": "code",
   "execution_count": null,
   "id": "a13f0a52-6c61-4e25-b490-0c88ad7e7a5a",
   "metadata": {},
   "outputs": [],
   "source": [
    "# clf.predict(X[:5])"
   ]
  },
  {
   "cell_type": "code",
   "execution_count": null,
   "id": "f4c1dd15-a4a5-4d5c-bbb2-f6e3e696d7e8",
   "metadata": {},
   "outputs": [],
   "source": [
    "# clf.set_params(kernel='rbf').fit(X, y)"
   ]
  },
  {
   "cell_type": "code",
   "execution_count": null,
   "id": "b3df6dbf-a316-46b8-9fda-1cd5085caea2",
   "metadata": {},
   "outputs": [],
   "source": [
    "# clf.predict(X[:5])"
   ]
  },
  {
   "cell_type": "markdown",
   "id": "53880359-d137-478f-9ae3-acc6e00fa06b",
   "metadata": {},
   "source": [
    "___\n",
    "**Again need to revise what's going on here**"
   ]
  },
  {
   "cell_type": "markdown",
   "id": "edfa00b8-c2a4-4abf-a520-5302f37b01d6",
   "metadata": {},
   "source": [
    "The following is from https://docs.w3cub.com/scikit_learn/auto_examples/preprocessing/plot_scaling_importance#sphx-glr-auto-examples-preprocessing-plot-scaling-importance-py"
   ]
  },
  {
   "cell_type": "code",
   "execution_count": null,
   "id": "8f5291d0-b0ed-4ed1-8ebc-08772818ef50",
   "metadata": {},
   "outputs": [],
   "source": [
    "# from __future__ import print_function\n",
    "# from sklearn.model_selection import train_test_split\n",
    "# from sklearn.preprocessing import StandardScaler\n",
    "# from sklearn.decomposition import PCA\n",
    "# from sklearn.naive_bayes import GaussianNB\n",
    "# from sklearn import metrics\n",
    "# import matplotlib.pyplot as plt\n",
    "# from sklearn.datasets import load_wine\n",
    "# from sklearn.pipeline import make_pipeline\n",
    "# print(__doc__)\n",
    "\n",
    "# # Code source: Tyler Lanigan <tylerlanigan@gmail.com>\n",
    "# #              Sebastian Raschka <mail@sebastianraschka.com>\n",
    "\n",
    "# # License: BSD 3 clause\n",
    "\n",
    "# RANDOM_STATE = 42\n",
    "# FIG_SIZE = (10, 7)\n",
    "\n",
    "\n",
    "# features, target = load_wine(return_X_y=True)\n",
    "\n",
    "# # Make a train/test split using 30% test size\n",
    "# X_train, X_test, y_train, y_test = train_test_split(features, target,\n",
    "#                                                     test_size=0.30,\n",
    "#                                                     random_state=RANDOM_STATE)\n",
    "\n",
    "# # Fit to data and predict using pipelined GNB and PCA.\n",
    "# unscaled_clf = make_pipeline(PCA(n_components=2), GaussianNB())\n",
    "# unscaled_clf.fit(X_train, y_train)\n",
    "# pred_test = unscaled_clf.predict(X_test)\n",
    "\n",
    "# # Fit to data and predict using pipelined scaling, GNB and PCA.\n",
    "# std_clf = make_pipeline(StandardScaler(), PCA(n_components=2), GaussianNB())\n",
    "# std_clf.fit(X_train, y_train)\n",
    "# pred_test_std = std_clf.predict(X_test)\n",
    "\n",
    "# # Show prediction accuracies in scaled and unscaled data.\n",
    "# print('\\nPrediction accuracy for the normal test dataset with PCA')\n",
    "# print('{:.2%}\\n'.format(metrics.accuracy_score(y_test, pred_test)))\n",
    "\n",
    "# print('\\nPrediction accuracy for the standardized test dataset with PCA')\n",
    "# print('{:.2%}\\n'.format(metrics.accuracy_score(y_test, pred_test_std)))\n",
    "\n",
    "# # Extract PCA from pipeline\n",
    "# pca = unscaled_clf.named_steps['pca']\n",
    "# pca_std = std_clf.named_steps['pca']\n",
    "\n",
    "# # Show first principal components\n",
    "# print('\\nPC 1 without scaling:\\n', pca.components_[0])\n",
    "# print('\\nPC 1 with scaling:\\n', pca_std.components_[0])\n",
    "\n",
    "# # Scale and use PCA on X_train data for visualization.\n",
    "# scaler = std_clf.named_steps['standardscaler']\n",
    "# X_train_std = pca_std.transform(scaler.transform(X_train))\n",
    "\n",
    "# # visualize standardized vs. untouched dataset with PCA performed\n",
    "# fig, (ax1, ax2) = plt.subplots(ncols=2, figsize=FIG_SIZE)\n",
    "\n",
    "\n",
    "# for l, c, m in zip(range(0, 3), ('blue', 'red', 'green'), ('^', 's', 'o')):\n",
    "#     ax1.scatter(X_train[y_train == l, 0], X_train[y_train == l, 1],\n",
    "#                 color=c,\n",
    "#                 label='class %s' % l,\n",
    "#                 alpha=0.5,\n",
    "#                 marker=m\n",
    "#                 )\n",
    "\n",
    "# for l, c, m in zip(range(0, 3), ('blue', 'red', 'green'), ('^', 's', 'o')):\n",
    "#     ax2.scatter(X_train_std[y_train == l, 0], X_train_std[y_train == l, 1],\n",
    "#                 color=c,\n",
    "#                 label='class %s' % l,\n",
    "#                 alpha=0.5,\n",
    "#                 marker=m\n",
    "#                 )\n",
    "\n",
    "# ax1.set_title('Training dataset after PCA')\n",
    "# ax2.set_title('Standardized training dataset after PCA')\n",
    "\n",
    "# for ax in (ax1, ax2):\n",
    "#     ax.set_xlabel('1st principal component')\n",
    "#     ax.set_ylabel('2nd principal component')\n",
    "#     ax.legend(loc='upper right')\n",
    "#     ax.grid()\n",
    "\n",
    "# plt.tight_layout()\n",
    "\n",
    "# plt.show()"
   ]
  },
  {
   "cell_type": "markdown",
   "id": "4a91c38d-d597-4294-9213-e3a08bda4fd0",
   "metadata": {},
   "source": [
    "___\n",
    "<br>\n",
    "\n",
    "### References"
   ]
  },
  {
   "cell_type": "markdown",
   "id": "b68b24cf-c353-4e13-9379-038fa99af5f5",
   "metadata": {},
   "source": [
    "https://seaborn.pydata.org/generated/seaborn.histplot.html"
   ]
  },
  {
   "cell_type": "markdown",
   "id": "2457d375-dce4-4d60-9026-cdb760da5dee",
   "metadata": {},
   "source": [
    "# END"
   ]
  }
 ],
 "metadata": {
  "kernelspec": {
   "display_name": "Python 3",
   "language": "python",
   "name": "python3"
  },
  "language_info": {
   "codemirror_mode": {
    "name": "ipython",
    "version": 3
   },
   "file_extension": ".py",
   "mimetype": "text/x-python",
   "name": "python",
   "nbconvert_exporter": "python",
   "pygments_lexer": "ipython3",
   "version": "3.8.8"
  }
 },
 "nbformat": 4,
 "nbformat_minor": 5
}
