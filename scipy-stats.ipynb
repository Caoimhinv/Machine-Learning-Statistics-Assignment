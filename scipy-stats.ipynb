{
 "cells": [
  {
   "cell_type": "markdown",
   "id": "78ca9db3-f201-4e2b-bec6-d61c1d8447a4",
   "metadata": {},
   "source": [
    "# Machine Learning and Statistics Assignment Part 2 - scipy-stats\n",
    "---"
   ]
  },
  {
   "cell_type": "markdown",
   "id": "f8847495-e532-4fc6-a318-0292be0016a0",
   "metadata": {},
   "source": [
    "![scikit_logo](Images/scipy_logo.png)"
   ]
  },
  {
   "cell_type": "markdown",
   "id": "16d253bd-bf7e-4b1e-9046-1036de0d55b6",
   "metadata": {},
   "source": [
    "[scipy.stats documentation](https://docs.scipy.org/doc/scipy/reference/stats.html)"
   ]
  },
  {
   "cell_type": "markdown",
   "id": "134924ec-4d66-40f4-badf-296da745aae9",
   "metadata": {},
   "source": [
    "### One Way ANOVA"
   ]
  },
  {
   "cell_type": "code",
   "execution_count": 12,
   "id": "b0df3853-1fab-430a-b006-b4d4f85c9407",
   "metadata": {},
   "outputs": [],
   "source": [
    "# Data frames.\n",
    "import pandas as pd\n",
    "\n",
    "# Plotting.\n",
    "import seaborn as sns\n",
    "\n",
    "# Stats.\n",
    "import scipy.stats as ss\n",
    "\n",
    "# Numerical arrays.\n",
    "import numpy as np\n",
    "\n",
    "# Collections.\n",
    "import collections as co\n",
    "\n",
    "# Specials.\n",
    "import scipy.special as spec"
   ]
  },
  {
   "cell_type": "markdown",
   "id": "900b3de3-9ad4-435c-9ad5-84d4587822ab",
   "metadata": {},
   "source": [
    "### Example: The Wine dataset"
   ]
  },
  {
   "cell_type": "code",
   "execution_count": 13,
   "id": "4cc05490-b9e4-44c1-a7bb-0dd46cd27c0a",
   "metadata": {},
   "outputs": [],
   "source": [
    "df = pd.read_csv(\"https://archive.ics.uci.edu/ml/machine-learning-databases/wine/wine.data\", header=None)"
   ]
  },
  {
   "cell_type": "code",
   "execution_count": 14,
   "id": "60038090-4dd4-42da-bbbc-21db5df4f112",
   "metadata": {},
   "outputs": [
    {
     "data": {
      "text/html": [
       "<div>\n",
       "<style scoped>\n",
       "    .dataframe tbody tr th:only-of-type {\n",
       "        vertical-align: middle;\n",
       "    }\n",
       "\n",
       "    .dataframe tbody tr th {\n",
       "        vertical-align: top;\n",
       "    }\n",
       "\n",
       "    .dataframe thead th {\n",
       "        text-align: right;\n",
       "    }\n",
       "</style>\n",
       "<table border=\"1\" class=\"dataframe\">\n",
       "  <thead>\n",
       "    <tr style=\"text-align: right;\">\n",
       "      <th></th>\n",
       "      <th>name</th>\n",
       "      <th>alcohol</th>\n",
       "      <th>malicAcid</th>\n",
       "      <th>ash</th>\n",
       "      <th>ashalcalinity</th>\n",
       "      <th>magnesium</th>\n",
       "      <th>totalPhenols</th>\n",
       "      <th>flavanoids</th>\n",
       "      <th>nonFlavanoidPhenols</th>\n",
       "      <th>proanthocyanins</th>\n",
       "      <th>colorIntensity</th>\n",
       "      <th>hue</th>\n",
       "      <th>od280_od315</th>\n",
       "      <th>proline</th>\n",
       "    </tr>\n",
       "  </thead>\n",
       "  <tbody>\n",
       "    <tr>\n",
       "      <th>0</th>\n",
       "      <td>1</td>\n",
       "      <td>14.23</td>\n",
       "      <td>1.71</td>\n",
       "      <td>2.43</td>\n",
       "      <td>15.6</td>\n",
       "      <td>127</td>\n",
       "      <td>2.80</td>\n",
       "      <td>3.06</td>\n",
       "      <td>0.28</td>\n",
       "      <td>2.29</td>\n",
       "      <td>5.64</td>\n",
       "      <td>1.04</td>\n",
       "      <td>3.92</td>\n",
       "      <td>1065</td>\n",
       "    </tr>\n",
       "    <tr>\n",
       "      <th>1</th>\n",
       "      <td>1</td>\n",
       "      <td>13.20</td>\n",
       "      <td>1.78</td>\n",
       "      <td>2.14</td>\n",
       "      <td>11.2</td>\n",
       "      <td>100</td>\n",
       "      <td>2.65</td>\n",
       "      <td>2.76</td>\n",
       "      <td>0.26</td>\n",
       "      <td>1.28</td>\n",
       "      <td>4.38</td>\n",
       "      <td>1.05</td>\n",
       "      <td>3.40</td>\n",
       "      <td>1050</td>\n",
       "    </tr>\n",
       "    <tr>\n",
       "      <th>2</th>\n",
       "      <td>1</td>\n",
       "      <td>13.16</td>\n",
       "      <td>2.36</td>\n",
       "      <td>2.67</td>\n",
       "      <td>18.6</td>\n",
       "      <td>101</td>\n",
       "      <td>2.80</td>\n",
       "      <td>3.24</td>\n",
       "      <td>0.30</td>\n",
       "      <td>2.81</td>\n",
       "      <td>5.68</td>\n",
       "      <td>1.03</td>\n",
       "      <td>3.17</td>\n",
       "      <td>1185</td>\n",
       "    </tr>\n",
       "    <tr>\n",
       "      <th>3</th>\n",
       "      <td>1</td>\n",
       "      <td>14.37</td>\n",
       "      <td>1.95</td>\n",
       "      <td>2.50</td>\n",
       "      <td>16.8</td>\n",
       "      <td>113</td>\n",
       "      <td>3.85</td>\n",
       "      <td>3.49</td>\n",
       "      <td>0.24</td>\n",
       "      <td>2.18</td>\n",
       "      <td>7.80</td>\n",
       "      <td>0.86</td>\n",
       "      <td>3.45</td>\n",
       "      <td>1480</td>\n",
       "    </tr>\n",
       "    <tr>\n",
       "      <th>4</th>\n",
       "      <td>1</td>\n",
       "      <td>13.24</td>\n",
       "      <td>2.59</td>\n",
       "      <td>2.87</td>\n",
       "      <td>21.0</td>\n",
       "      <td>118</td>\n",
       "      <td>2.80</td>\n",
       "      <td>2.69</td>\n",
       "      <td>0.39</td>\n",
       "      <td>1.82</td>\n",
       "      <td>4.32</td>\n",
       "      <td>1.04</td>\n",
       "      <td>2.93</td>\n",
       "      <td>735</td>\n",
       "    </tr>\n",
       "    <tr>\n",
       "      <th>...</th>\n",
       "      <td>...</td>\n",
       "      <td>...</td>\n",
       "      <td>...</td>\n",
       "      <td>...</td>\n",
       "      <td>...</td>\n",
       "      <td>...</td>\n",
       "      <td>...</td>\n",
       "      <td>...</td>\n",
       "      <td>...</td>\n",
       "      <td>...</td>\n",
       "      <td>...</td>\n",
       "      <td>...</td>\n",
       "      <td>...</td>\n",
       "      <td>...</td>\n",
       "    </tr>\n",
       "    <tr>\n",
       "      <th>173</th>\n",
       "      <td>3</td>\n",
       "      <td>13.71</td>\n",
       "      <td>5.65</td>\n",
       "      <td>2.45</td>\n",
       "      <td>20.5</td>\n",
       "      <td>95</td>\n",
       "      <td>1.68</td>\n",
       "      <td>0.61</td>\n",
       "      <td>0.52</td>\n",
       "      <td>1.06</td>\n",
       "      <td>7.70</td>\n",
       "      <td>0.64</td>\n",
       "      <td>1.74</td>\n",
       "      <td>740</td>\n",
       "    </tr>\n",
       "    <tr>\n",
       "      <th>174</th>\n",
       "      <td>3</td>\n",
       "      <td>13.40</td>\n",
       "      <td>3.91</td>\n",
       "      <td>2.48</td>\n",
       "      <td>23.0</td>\n",
       "      <td>102</td>\n",
       "      <td>1.80</td>\n",
       "      <td>0.75</td>\n",
       "      <td>0.43</td>\n",
       "      <td>1.41</td>\n",
       "      <td>7.30</td>\n",
       "      <td>0.70</td>\n",
       "      <td>1.56</td>\n",
       "      <td>750</td>\n",
       "    </tr>\n",
       "    <tr>\n",
       "      <th>175</th>\n",
       "      <td>3</td>\n",
       "      <td>13.27</td>\n",
       "      <td>4.28</td>\n",
       "      <td>2.26</td>\n",
       "      <td>20.0</td>\n",
       "      <td>120</td>\n",
       "      <td>1.59</td>\n",
       "      <td>0.69</td>\n",
       "      <td>0.43</td>\n",
       "      <td>1.35</td>\n",
       "      <td>10.20</td>\n",
       "      <td>0.59</td>\n",
       "      <td>1.56</td>\n",
       "      <td>835</td>\n",
       "    </tr>\n",
       "    <tr>\n",
       "      <th>176</th>\n",
       "      <td>3</td>\n",
       "      <td>13.17</td>\n",
       "      <td>2.59</td>\n",
       "      <td>2.37</td>\n",
       "      <td>20.0</td>\n",
       "      <td>120</td>\n",
       "      <td>1.65</td>\n",
       "      <td>0.68</td>\n",
       "      <td>0.53</td>\n",
       "      <td>1.46</td>\n",
       "      <td>9.30</td>\n",
       "      <td>0.60</td>\n",
       "      <td>1.62</td>\n",
       "      <td>840</td>\n",
       "    </tr>\n",
       "    <tr>\n",
       "      <th>177</th>\n",
       "      <td>3</td>\n",
       "      <td>14.13</td>\n",
       "      <td>4.10</td>\n",
       "      <td>2.74</td>\n",
       "      <td>24.5</td>\n",
       "      <td>96</td>\n",
       "      <td>2.05</td>\n",
       "      <td>0.76</td>\n",
       "      <td>0.56</td>\n",
       "      <td>1.35</td>\n",
       "      <td>9.20</td>\n",
       "      <td>0.61</td>\n",
       "      <td>1.60</td>\n",
       "      <td>560</td>\n",
       "    </tr>\n",
       "  </tbody>\n",
       "</table>\n",
       "<p>178 rows × 14 columns</p>\n",
       "</div>"
      ],
      "text/plain": [
       "     name  alcohol  malicAcid   ash  ashalcalinity  magnesium  totalPhenols  \\\n",
       "0       1    14.23       1.71  2.43           15.6        127          2.80   \n",
       "1       1    13.20       1.78  2.14           11.2        100          2.65   \n",
       "2       1    13.16       2.36  2.67           18.6        101          2.80   \n",
       "3       1    14.37       1.95  2.50           16.8        113          3.85   \n",
       "4       1    13.24       2.59  2.87           21.0        118          2.80   \n",
       "..    ...      ...        ...   ...            ...        ...           ...   \n",
       "173     3    13.71       5.65  2.45           20.5         95          1.68   \n",
       "174     3    13.40       3.91  2.48           23.0        102          1.80   \n",
       "175     3    13.27       4.28  2.26           20.0        120          1.59   \n",
       "176     3    13.17       2.59  2.37           20.0        120          1.65   \n",
       "177     3    14.13       4.10  2.74           24.5         96          2.05   \n",
       "\n",
       "     flavanoids  nonFlavanoidPhenols  proanthocyanins  colorIntensity   hue  \\\n",
       "0          3.06                 0.28             2.29            5.64  1.04   \n",
       "1          2.76                 0.26             1.28            4.38  1.05   \n",
       "2          3.24                 0.30             2.81            5.68  1.03   \n",
       "3          3.49                 0.24             2.18            7.80  0.86   \n",
       "4          2.69                 0.39             1.82            4.32  1.04   \n",
       "..          ...                  ...              ...             ...   ...   \n",
       "173        0.61                 0.52             1.06            7.70  0.64   \n",
       "174        0.75                 0.43             1.41            7.30  0.70   \n",
       "175        0.69                 0.43             1.35           10.20  0.59   \n",
       "176        0.68                 0.53             1.46            9.30  0.60   \n",
       "177        0.76                 0.56             1.35            9.20  0.61   \n",
       "\n",
       "     od280_od315  proline  \n",
       "0           3.92     1065  \n",
       "1           3.40     1050  \n",
       "2           3.17     1185  \n",
       "3           3.45     1480  \n",
       "4           2.93      735  \n",
       "..           ...      ...  \n",
       "173         1.74      740  \n",
       "174         1.56      750  \n",
       "175         1.56      835  \n",
       "176         1.62      840  \n",
       "177         1.60      560  \n",
       "\n",
       "[178 rows x 14 columns]"
      ]
     },
     "execution_count": 14,
     "metadata": {},
     "output_type": "execute_result"
    }
   ],
   "source": [
    "df.columns = ['name','alcohol','malicAcid','ash','ashalcalinity','magnesium','totalPhenols','flavanoids'\n",
    "              ,'nonFlavanoidPhenols','proanthocyanins','colorIntensity','hue','od280_od315','proline']\n",
    "df"
   ]
  },
  {
   "cell_type": "markdown",
   "id": "f6c4d629-051e-4cdb-af9a-ba8e0e13afde",
   "metadata": {},
   "source": [
    "### Assumption 1: Dependent variable"
   ]
  },
  {
   "cell_type": "code",
   "execution_count": 15,
   "id": "5c09c419-7209-4ebc-8572-5243a720fa98",
   "metadata": {},
   "outputs": [
    {
     "data": {
      "text/plain": [
       "0      14.23\n",
       "1      13.20\n",
       "2      13.16\n",
       "3      14.37\n",
       "4      13.24\n",
       "       ...  \n",
       "173    13.71\n",
       "174    13.40\n",
       "175    13.27\n",
       "176    13.17\n",
       "177    14.13\n",
       "Name: alcohol, Length: 178, dtype: float64"
      ]
     },
     "execution_count": 15,
     "metadata": {},
     "output_type": "execute_result"
    }
   ],
   "source": [
    "dependent = df['alcohol']\n",
    "dependent"
   ]
  },
  {
   "cell_type": "code",
   "execution_count": 16,
   "id": "c1f635e0-4f3c-4117-98eb-e76742953d8f",
   "metadata": {},
   "outputs": [
    {
     "data": {
      "text/plain": [
       "count    178.000000\n",
       "mean      13.000618\n",
       "std        0.811827\n",
       "min       11.030000\n",
       "25%       12.362500\n",
       "50%       13.050000\n",
       "75%       13.677500\n",
       "max       14.830000\n",
       "Name: alcohol, dtype: float64"
      ]
     },
     "execution_count": 16,
     "metadata": {},
     "output_type": "execute_result"
    }
   ],
   "source": [
    "dependent.describe()"
   ]
  },
  {
   "cell_type": "markdown",
   "id": "49e1b756-214d-4bb7-9aba-285b61524ee3",
   "metadata": {},
   "source": [
    "### Assumption 2: Independent variable"
   ]
  },
  {
   "cell_type": "code",
   "execution_count": 29,
   "id": "f15088b2-27c3-423f-b2a8-c7841c5388e7",
   "metadata": {},
   "outputs": [
    {
     "data": {
      "text/plain": [
       "0      1\n",
       "1      1\n",
       "2      1\n",
       "3      1\n",
       "4      1\n",
       "      ..\n",
       "173    3\n",
       "174    3\n",
       "175    3\n",
       "176    3\n",
       "177    3\n",
       "Name: name, Length: 178, dtype: int64"
      ]
     },
     "execution_count": 29,
     "metadata": {},
     "output_type": "execute_result"
    }
   ],
   "source": [
    "independent = df['name']\n",
    "independent"
   ]
  },
  {
   "cell_type": "markdown",
   "id": "d6a20c17-c7d8-4b8b-9037-4796065c446c",
   "metadata": {},
   "source": [
    "### Assumption 4: Outliers"
   ]
  },
  {
   "cell_type": "code",
   "execution_count": 33,
   "id": "31bb6a0c-1fe1-467e-b6f8-75219d859c74",
   "metadata": {},
   "outputs": [
    {
     "data": {
      "text/plain": [
       "<AxesSubplot:xlabel='alcohol', ylabel='name'>"
      ]
     },
     "execution_count": 33,
     "metadata": {},
     "output_type": "execute_result"
    },
    {
     "data": {
      "image/png": "[encoded data removed]",
      "text/plain": [
       "<Figure size 432x288 with 1 Axes>"
      ]
     },
     "metadata": {
      "needs_background": "light"
     },
     "output_type": "display_data"
    }
   ],
   "source": [
    "# https://seaborn.pydata.org/generated/seaborn.boxplot.html\n",
    "sns.violinplot(x=dependent, y=independent)"
   ]
  },
  {
   "cell_type": "markdown",
   "id": "27748276-0836-4c44-9606-4bc1ec2d506f",
   "metadata": {},
   "source": [
    "### Assumption 5: Normality  \n",
    "\n",
    "https://docs.scipy.org/doc/scipy/reference/generated/scipy.stats.shapiro.html\n",
    "\n",
    "https://statistics.laerd.com/spss-tutorials/testing-for-normality-using-spss-statistics.php"
   ]
  },
  {
   "cell_type": "code",
   "execution_count": 19,
   "id": "3a3078a2-9985-410a-9977-0e9cbeb0c185",
   "metadata": {},
   "outputs": [
    {
     "data": {
      "text/plain": [
       "<seaborn.axisgrid.FacetGrid at 0x7feaeecded00>"
      ]
     },
     "execution_count": 19,
     "metadata": {},
     "output_type": "execute_result"
    },
    {
     "data": {
      "image/png": "[encoded data removed]",
      "text/plain": [
       "<Figure size 402.375x360 with 1 Axes>"
      ]
     },
     "metadata": {
      "needs_background": "light"
     },
     "output_type": "display_data"
    }
   ],
   "source": [
    "# KDEs of the three categories.\n",
    "sns.displot(x=dependent, hue=independent, kind=\"kde\")"
   ]
  },
  {
   "cell_type": "code",
   "execution_count": 21,
   "id": "b52d911a-b4e9-4711-8e5c-c48b74d3480b",
   "metadata": {},
   "outputs": [
    {
     "data": {
      "text/plain": [
       "ShapiroResult(statistic=0.9808937311172485, pvalue=0.47905755043029785)"
      ]
     },
     "execution_count": 21,
     "metadata": {},
     "output_type": "execute_result"
    }
   ],
   "source": [
    "ss.shapiro(dependent[independent == 1])"
   ]
  },
  {
   "cell_type": "code",
   "execution_count": 22,
   "id": "6c794c77-7ab7-4616-b8c9-f7ec6716f76e",
   "metadata": {},
   "outputs": [
    {
     "data": {
      "text/plain": [
       "ShapiroResult(statistic=0.9720516800880432, pvalue=0.11396162211894989)"
      ]
     },
     "execution_count": 22,
     "metadata": {},
     "output_type": "execute_result"
    }
   ],
   "source": [
    "ss.shapiro(dependent[independent == 2])"
   ]
  },
  {
   "cell_type": "code",
   "execution_count": 23,
   "id": "232cef3a-bee4-4172-aebb-d156b57dfb7b",
   "metadata": {},
   "outputs": [
    {
     "data": {
      "text/plain": [
       "ShapiroResult(statistic=0.981467604637146, pvalue=0.6408376097679138)"
      ]
     },
     "execution_count": 23,
     "metadata": {},
     "output_type": "execute_result"
    }
   ],
   "source": [
    "ss.shapiro(dependent[independent == 3])"
   ]
  },
  {
   "cell_type": "markdown",
   "id": "2f59f206-ffaa-4e2e-832a-2458a081817d",
   "metadata": {},
   "source": [
    "### Assumption 6: Homogeneity of Variances  \n",
    "\n",
    "https://docs.scipy.org/doc/scipy/reference/generated/scipy.stats.levene.html\n",
    "\n",
    "https://statistics.laerd.com/statistical-guides/independent-t-test-statistical-guide.php"
   ]
  },
  {
   "cell_type": "code",
   "execution_count": 24,
   "id": "7519be7c-3a36-4cc5-9578-1b2f37226e0d",
   "metadata": {},
   "outputs": [
    {
     "data": {
      "text/plain": [
       "LeveneResult(statistic=0.5997889815519192, pvalue=0.5500519055097621)"
      ]
     },
     "execution_count": 24,
     "metadata": {},
     "output_type": "execute_result"
    }
   ],
   "source": [
    "# Test for equal variances.\n",
    "ss.levene(\n",
    "    dependent[independent == 1],\n",
    "    dependent[independent == 2],\n",
    "    dependent[independent == 3]\n",
    ")"
   ]
  },
  {
   "cell_type": "markdown",
   "id": "09950995-e402-48d6-aa91-04a4083dc8ae",
   "metadata": {},
   "source": [
    "### One-way ANOVA"
   ]
  },
  {
   "cell_type": "code",
   "execution_count": 25,
   "id": "feec16a9-afd7-4530-87f2-ec9f4004e86e",
   "metadata": {},
   "outputs": [
    {
     "data": {
      "text/plain": [
       "F_onewayResult(statistic=135.07762424279912, pvalue=3.319503795619655e-36)"
      ]
     },
     "execution_count": 25,
     "metadata": {},
     "output_type": "execute_result"
    }
   ],
   "source": [
    "# ANOVA.\n",
    "ss.f_oneway(\n",
    "    dependent[independent == 1],\n",
    "    dependent[independent == 2],\n",
    "    dependent[independent == 3]\n",
    ")"
   ]
  },
  {
   "cell_type": "markdown",
   "id": "4430f094-dbc8-492c-b41c-c998590b4bda",
   "metadata": {},
   "source": [
    "Conclusion: the mean sepal lengths of setosas, versicolors, and virginicas are different."
   ]
  },
  {
   "cell_type": "markdown",
   "id": "52e184aa-e501-4626-9ed1-127566c02581",
   "metadata": {},
   "source": [
    "## REFERENCES\n",
    "---"
   ]
  },
  {
   "cell_type": "markdown",
   "id": "b878ca06-32d7-48d5-9d4c-73db01279d6a",
   "metadata": {},
   "source": [
    "[scipy.stats documentation](https://docs.scipy.org/doc/scipy/reference/stats.html)"
   ]
  },
  {
   "cell_type": "markdown",
   "id": "cf36eb17-7b49-495e-92a4-4c3e545bbd3f",
   "metadata": {},
   "source": [
    "# END"
   ]
  },
  {
   "cell_type": "code",
   "execution_count": null,
   "id": "d27e2d82-8c63-4ac1-bad1-2acce99cf506",
   "metadata": {},
   "outputs": [],
   "source": []
  }
 ],
 "metadata": {
  "kernelspec": {
   "display_name": "Python 3",
   "language": "python",
   "name": "python3"
  },
  "language_info": {
   "codemirror_mode": {
    "name": "ipython",
    "version": 3
   },
   "file_extension": ".py",
   "mimetype": "text/x-python",
   "name": "python",
   "nbconvert_exporter": "python",
   "pygments_lexer": "ipython3",
   "version": "3.8.8"
  }
 },
 "nbformat": 4,
 "nbformat_minor": 5
}
