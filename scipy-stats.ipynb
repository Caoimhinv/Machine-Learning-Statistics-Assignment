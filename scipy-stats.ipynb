{
 "cells": [
  {
   "cell_type": "markdown",
   "id": "78ca9db3-f201-4e2b-bec6-d61c1d8447a4",
   "metadata": {},
   "source": [
    "# Machine Learning and Statistics Assignment Part 2 - scipy.stats\n",
    "---"
   ]
  },
  {
   "cell_type": "markdown",
   "id": "f8847495-e532-4fc6-a318-0292be0016a0",
   "metadata": {},
   "source": [
    "<br>\n",
    "\n",
    "![scikit_logo](Images/scipy_logo.png)"
   ]
  },
  {
   "cell_type": "markdown",
   "id": "a94d9e31-cc29-40f4-b79a-0cd1e7ebdf16",
   "metadata": {},
   "source": [
    "<br>\n",
    "\n",
    "Scipy.stats is a sub-package of the SciPy library and is used primarily for statistics. Scipy itself is a powerful library used to perform mathematical, scientific and engineering computations, and is built and depends upon the NumPy library.  \n",
    "Scipy.stats \"contains a large number of probability distributions, summary and frequency statistics, correlation functions and statistical tests, masked statistics, kernel density estimation, quasi-Monte Carlo functionality, and more.\" https://docs.scipy.org/doc/scipy/reference/stats.html#module-scipy.stats"
   ]
  },
  {
   "cell_type": "markdown",
   "id": "134924ec-4d66-40f4-badf-296da745aae9",
   "metadata": {},
   "source": [
    "<br>\n",
    "\n",
    "### One Way ANOVA"
   ]
  },
  {
   "cell_type": "markdown",
   "id": "c06131e3-27f8-462e-af14-e7305a90f818",
   "metadata": {},
   "source": [
    "ANOVA comes from 'analysis of variance'. A one-way ANOVA test compares the means of two or more independent groups in order to determine whether there is statistical evidence that the associated population means are significantly different. The one-way refers to one independent variable - there is also a two-way ANOVA tests which takes two independent variables and multiple categorical groups. Here we will focus on one-way.  \n",
    "In a one-way ANOVA there are two possible hypotheses - Null and Alternative. The null hypothesis is that there is no difference between the groups while the alternative is the opposite.  "
   ]
  },
  {
   "cell_type": "markdown",
   "id": "40c00b81-2a33-4b5b-987c-d1cfdf60dead",
   "metadata": {},
   "source": [
    "We begin by importing all of the necessary libraries."
   ]
  },
  {
   "cell_type": "code",
   "execution_count": 74,
   "id": "b0df3853-1fab-430a-b006-b4d4f85c9407",
   "metadata": {},
   "outputs": [],
   "source": [
    "# For data frames\n",
    "import pandas as pd\n",
    "\n",
    "# For plots\n",
    "import seaborn as sns\n",
    "\n",
    "# For statistics\n",
    "import scipy.stats as ss\n",
    "\n",
    "# Numerical arrays\n",
    "import numpy as np"
   ]
  },
  {
   "cell_type": "markdown",
   "id": "900b3de3-9ad4-435c-9ad5-84d4587822ab",
   "metadata": {},
   "source": [
    "<br>\n",
    "\n",
    "### Example: The Wine dataset"
   ]
  },
  {
   "cell_type": "markdown",
   "id": "0f6cffbb-7264-4124-9fa7-c9626dba6542",
   "metadata": {},
   "source": [
    "![scikit_logo](Images/wine_bottles.jpg)"
   ]
  },
  {
   "cell_type": "markdown",
   "id": "cf47055e-c10c-4b66-bb71-b278ce4e6710",
   "metadata": {},
   "source": [
    "We're going to use the the wine dataset again!"
   ]
  },
  {
   "cell_type": "code",
   "execution_count": 66,
   "id": "4cc05490-b9e4-44c1-a7bb-0dd46cd27c0a",
   "metadata": {},
   "outputs": [],
   "source": [
    "df = pd.read_csv(\"https://archive.ics.uci.edu/ml/machine-learning-databases/wine/wine.data\", header=None)"
   ]
  },
  {
   "cell_type": "code",
   "execution_count": 67,
   "id": "60038090-4dd4-42da-bbbc-21db5df4f112",
   "metadata": {},
   "outputs": [
    {
     "data": {
      "text/html": [
       "<div>\n",
       "<style scoped>\n",
       "    .dataframe tbody tr th:only-of-type {\n",
       "        vertical-align: middle;\n",
       "    }\n",
       "\n",
       "    .dataframe tbody tr th {\n",
       "        vertical-align: top;\n",
       "    }\n",
       "\n",
       "    .dataframe thead th {\n",
       "        text-align: right;\n",
       "    }\n",
       "</style>\n",
       "<table border=\"1\" class=\"dataframe\">\n",
       "  <thead>\n",
       "    <tr style=\"text-align: right;\">\n",
       "      <th></th>\n",
       "      <th>wine_name</th>\n",
       "      <th>alcohol</th>\n",
       "      <th>malicAcid</th>\n",
       "      <th>ash</th>\n",
       "      <th>ashalcalinity</th>\n",
       "      <th>magnesium</th>\n",
       "      <th>totalPhenols</th>\n",
       "      <th>flavanoids</th>\n",
       "      <th>nonFlavanoidPhenols</th>\n",
       "      <th>proanthocyanins</th>\n",
       "      <th>colorIntensity</th>\n",
       "      <th>hue</th>\n",
       "      <th>od280_od315</th>\n",
       "      <th>proline</th>\n",
       "    </tr>\n",
       "  </thead>\n",
       "  <tbody>\n",
       "    <tr>\n",
       "      <th>0</th>\n",
       "      <td>1</td>\n",
       "      <td>14.23</td>\n",
       "      <td>1.71</td>\n",
       "      <td>2.43</td>\n",
       "      <td>15.6</td>\n",
       "      <td>127</td>\n",
       "      <td>2.80</td>\n",
       "      <td>3.06</td>\n",
       "      <td>0.28</td>\n",
       "      <td>2.29</td>\n",
       "      <td>5.64</td>\n",
       "      <td>1.04</td>\n",
       "      <td>3.92</td>\n",
       "      <td>1065</td>\n",
       "    </tr>\n",
       "    <tr>\n",
       "      <th>1</th>\n",
       "      <td>1</td>\n",
       "      <td>13.20</td>\n",
       "      <td>1.78</td>\n",
       "      <td>2.14</td>\n",
       "      <td>11.2</td>\n",
       "      <td>100</td>\n",
       "      <td>2.65</td>\n",
       "      <td>2.76</td>\n",
       "      <td>0.26</td>\n",
       "      <td>1.28</td>\n",
       "      <td>4.38</td>\n",
       "      <td>1.05</td>\n",
       "      <td>3.40</td>\n",
       "      <td>1050</td>\n",
       "    </tr>\n",
       "    <tr>\n",
       "      <th>2</th>\n",
       "      <td>1</td>\n",
       "      <td>13.16</td>\n",
       "      <td>2.36</td>\n",
       "      <td>2.67</td>\n",
       "      <td>18.6</td>\n",
       "      <td>101</td>\n",
       "      <td>2.80</td>\n",
       "      <td>3.24</td>\n",
       "      <td>0.30</td>\n",
       "      <td>2.81</td>\n",
       "      <td>5.68</td>\n",
       "      <td>1.03</td>\n",
       "      <td>3.17</td>\n",
       "      <td>1185</td>\n",
       "    </tr>\n",
       "    <tr>\n",
       "      <th>3</th>\n",
       "      <td>1</td>\n",
       "      <td>14.37</td>\n",
       "      <td>1.95</td>\n",
       "      <td>2.50</td>\n",
       "      <td>16.8</td>\n",
       "      <td>113</td>\n",
       "      <td>3.85</td>\n",
       "      <td>3.49</td>\n",
       "      <td>0.24</td>\n",
       "      <td>2.18</td>\n",
       "      <td>7.80</td>\n",
       "      <td>0.86</td>\n",
       "      <td>3.45</td>\n",
       "      <td>1480</td>\n",
       "    </tr>\n",
       "    <tr>\n",
       "      <th>4</th>\n",
       "      <td>1</td>\n",
       "      <td>13.24</td>\n",
       "      <td>2.59</td>\n",
       "      <td>2.87</td>\n",
       "      <td>21.0</td>\n",
       "      <td>118</td>\n",
       "      <td>2.80</td>\n",
       "      <td>2.69</td>\n",
       "      <td>0.39</td>\n",
       "      <td>1.82</td>\n",
       "      <td>4.32</td>\n",
       "      <td>1.04</td>\n",
       "      <td>2.93</td>\n",
       "      <td>735</td>\n",
       "    </tr>\n",
       "    <tr>\n",
       "      <th>...</th>\n",
       "      <td>...</td>\n",
       "      <td>...</td>\n",
       "      <td>...</td>\n",
       "      <td>...</td>\n",
       "      <td>...</td>\n",
       "      <td>...</td>\n",
       "      <td>...</td>\n",
       "      <td>...</td>\n",
       "      <td>...</td>\n",
       "      <td>...</td>\n",
       "      <td>...</td>\n",
       "      <td>...</td>\n",
       "      <td>...</td>\n",
       "      <td>...</td>\n",
       "    </tr>\n",
       "    <tr>\n",
       "      <th>173</th>\n",
       "      <td>3</td>\n",
       "      <td>13.71</td>\n",
       "      <td>5.65</td>\n",
       "      <td>2.45</td>\n",
       "      <td>20.5</td>\n",
       "      <td>95</td>\n",
       "      <td>1.68</td>\n",
       "      <td>0.61</td>\n",
       "      <td>0.52</td>\n",
       "      <td>1.06</td>\n",
       "      <td>7.70</td>\n",
       "      <td>0.64</td>\n",
       "      <td>1.74</td>\n",
       "      <td>740</td>\n",
       "    </tr>\n",
       "    <tr>\n",
       "      <th>174</th>\n",
       "      <td>3</td>\n",
       "      <td>13.40</td>\n",
       "      <td>3.91</td>\n",
       "      <td>2.48</td>\n",
       "      <td>23.0</td>\n",
       "      <td>102</td>\n",
       "      <td>1.80</td>\n",
       "      <td>0.75</td>\n",
       "      <td>0.43</td>\n",
       "      <td>1.41</td>\n",
       "      <td>7.30</td>\n",
       "      <td>0.70</td>\n",
       "      <td>1.56</td>\n",
       "      <td>750</td>\n",
       "    </tr>\n",
       "    <tr>\n",
       "      <th>175</th>\n",
       "      <td>3</td>\n",
       "      <td>13.27</td>\n",
       "      <td>4.28</td>\n",
       "      <td>2.26</td>\n",
       "      <td>20.0</td>\n",
       "      <td>120</td>\n",
       "      <td>1.59</td>\n",
       "      <td>0.69</td>\n",
       "      <td>0.43</td>\n",
       "      <td>1.35</td>\n",
       "      <td>10.20</td>\n",
       "      <td>0.59</td>\n",
       "      <td>1.56</td>\n",
       "      <td>835</td>\n",
       "    </tr>\n",
       "    <tr>\n",
       "      <th>176</th>\n",
       "      <td>3</td>\n",
       "      <td>13.17</td>\n",
       "      <td>2.59</td>\n",
       "      <td>2.37</td>\n",
       "      <td>20.0</td>\n",
       "      <td>120</td>\n",
       "      <td>1.65</td>\n",
       "      <td>0.68</td>\n",
       "      <td>0.53</td>\n",
       "      <td>1.46</td>\n",
       "      <td>9.30</td>\n",
       "      <td>0.60</td>\n",
       "      <td>1.62</td>\n",
       "      <td>840</td>\n",
       "    </tr>\n",
       "    <tr>\n",
       "      <th>177</th>\n",
       "      <td>3</td>\n",
       "      <td>14.13</td>\n",
       "      <td>4.10</td>\n",
       "      <td>2.74</td>\n",
       "      <td>24.5</td>\n",
       "      <td>96</td>\n",
       "      <td>2.05</td>\n",
       "      <td>0.76</td>\n",
       "      <td>0.56</td>\n",
       "      <td>1.35</td>\n",
       "      <td>9.20</td>\n",
       "      <td>0.61</td>\n",
       "      <td>1.60</td>\n",
       "      <td>560</td>\n",
       "    </tr>\n",
       "  </tbody>\n",
       "</table>\n",
       "<p>178 rows × 14 columns</p>\n",
       "</div>"
      ],
      "text/plain": [
       "     wine_name  alcohol  malicAcid   ash  ashalcalinity  magnesium  \\\n",
       "0            1    14.23       1.71  2.43           15.6        127   \n",
       "1            1    13.20       1.78  2.14           11.2        100   \n",
       "2            1    13.16       2.36  2.67           18.6        101   \n",
       "3            1    14.37       1.95  2.50           16.8        113   \n",
       "4            1    13.24       2.59  2.87           21.0        118   \n",
       "..         ...      ...        ...   ...            ...        ...   \n",
       "173          3    13.71       5.65  2.45           20.5         95   \n",
       "174          3    13.40       3.91  2.48           23.0        102   \n",
       "175          3    13.27       4.28  2.26           20.0        120   \n",
       "176          3    13.17       2.59  2.37           20.0        120   \n",
       "177          3    14.13       4.10  2.74           24.5         96   \n",
       "\n",
       "     totalPhenols  flavanoids  nonFlavanoidPhenols  proanthocyanins  \\\n",
       "0            2.80        3.06                 0.28             2.29   \n",
       "1            2.65        2.76                 0.26             1.28   \n",
       "2            2.80        3.24                 0.30             2.81   \n",
       "3            3.85        3.49                 0.24             2.18   \n",
       "4            2.80        2.69                 0.39             1.82   \n",
       "..            ...         ...                  ...              ...   \n",
       "173          1.68        0.61                 0.52             1.06   \n",
       "174          1.80        0.75                 0.43             1.41   \n",
       "175          1.59        0.69                 0.43             1.35   \n",
       "176          1.65        0.68                 0.53             1.46   \n",
       "177          2.05        0.76                 0.56             1.35   \n",
       "\n",
       "     colorIntensity   hue  od280_od315  proline  \n",
       "0              5.64  1.04         3.92     1065  \n",
       "1              4.38  1.05         3.40     1050  \n",
       "2              5.68  1.03         3.17     1185  \n",
       "3              7.80  0.86         3.45     1480  \n",
       "4              4.32  1.04         2.93      735  \n",
       "..              ...   ...          ...      ...  \n",
       "173            7.70  0.64         1.74      740  \n",
       "174            7.30  0.70         1.56      750  \n",
       "175           10.20  0.59         1.56      835  \n",
       "176            9.30  0.60         1.62      840  \n",
       "177            9.20  0.61         1.60      560  \n",
       "\n",
       "[178 rows x 14 columns]"
      ]
     },
     "execution_count": 67,
     "metadata": {},
     "output_type": "execute_result"
    }
   ],
   "source": [
    "df.columns = ['wine_name','alcohol','malicAcid','ash','ashalcalinity','magnesium','totalPhenols','flavanoids'\n",
    "              ,'nonFlavanoidPhenols','proanthocyanins','colorIntensity','hue','od280_od315','proline']\n",
    "df"
   ]
  },
  {
   "cell_type": "markdown",
   "id": "b9ced5c4-414c-487d-addb-eacadc7e2cf9",
   "metadata": {},
   "source": [
    "We can summarise the data in scipy.stats using a similar function to pandas although it's not nearly as pretty!"
   ]
  },
  {
   "cell_type": "code",
   "execution_count": 76,
   "id": "c6c9487d-aa02-4a44-878a-c4183ebbdc77",
   "metadata": {},
   "outputs": [
    {
     "data": {
      "text/plain": [
       "DescribeResult(nobs=178, minmax=(array([1.000e+00, 1.103e+01, 7.400e-01, 1.360e+00, 1.060e+01, 7.000e+01,\n",
       "       9.800e-01, 3.400e-01, 1.300e-01, 4.100e-01, 1.280e+00, 4.800e-01,\n",
       "       1.270e+00, 2.780e+02]), array([3.000e+00, 1.483e+01, 5.800e+00, 3.230e+00, 3.000e+01, 1.620e+02,\n",
       "       3.880e+00, 5.080e+00, 6.600e-01, 3.580e+00, 1.300e+01, 1.710e+00,\n",
       "       4.000e+00, 1.680e+03])), mean=array([1.93820225e+00, 1.30006180e+01, 2.33634831e+00, 2.36651685e+00,\n",
       "       1.94949438e+01, 9.97415730e+01, 2.29511236e+00, 2.02926966e+00,\n",
       "       3.61853933e-01, 1.59089888e+00, 5.05808988e+00, 9.57449438e-01,\n",
       "       2.61168539e+00, 7.46893258e+02]), variance=array([6.00679236e-01, 6.59062328e-01, 1.24801540e+00, 7.52646353e-02,\n",
       "       1.11526862e+01, 2.03989335e+02, 3.91689535e-01, 9.97718673e-01,\n",
       "       1.54886339e-02, 3.27594668e-01, 5.37444938e+00, 5.22449607e-02,\n",
       "       5.04086409e-01, 9.91667174e+04]), skewness=array([ 0.10652368, -0.05104747,  1.0308695 , -0.17520678,  0.21124733,\n",
       "        1.08891489,  0.08590677,  0.02512948,  0.44634901,  0.51276903,\n",
       "        0.86124805,  0.02091312, -0.30468993,  0.76133617]), kurtosis=array([-1.31944038, -0.8622601 ,  0.25734829,  1.07857613,  0.44082314,\n",
       "        2.01280601, -0.8458573 , -0.88936501, -0.65295221,  0.50567101,\n",
       "        0.33736976, -0.3680254 , -1.08967533, -0.27499971]))"
      ]
     },
     "execution_count": 76,
     "metadata": {},
     "output_type": "execute_result"
    }
   ],
   "source": [
    "# summarise the data\n",
    "ss.describe(df)"
   ]
  },
  {
   "cell_type": "markdown",
   "id": "5e7379ec-c4da-4c9a-885c-a9ec321791b4",
   "metadata": {},
   "source": [
    "For the data to be appropriate for one-way ANOVA, it has to pass six assumptions. The following assumptions are taken from https://statistics.laerd.com/spss-tutorials/one-way-anova-using-spss-statistics.php. We are going to test the alcohol variable with each of the assumptions."
   ]
  },
  {
   "cell_type": "markdown",
   "id": "f6c4d629-051e-4cdb-af9a-ba8e0e13afde",
   "metadata": {
    "tags": []
   },
   "source": [
    "<br>\n",
    "\n",
    "### Assumption 1: Dependent variable"
   ]
  },
  {
   "cell_type": "markdown",
   "id": "93203046-1088-4acb-9a1e-bfbeb110235a",
   "metadata": {},
   "source": [
    ">\"Your dependent variable should be measured at the interval or ratio level (i.e., they are continuous)\""
   ]
  },
  {
   "cell_type": "code",
   "execution_count": 45,
   "id": "5c09c419-7209-4ebc-8572-5243a720fa98",
   "metadata": {},
   "outputs": [
    {
     "data": {
      "text/plain": [
       "0      14.23\n",
       "1      13.20\n",
       "2      13.16\n",
       "3      14.37\n",
       "4      13.24\n",
       "       ...  \n",
       "173    13.71\n",
       "174    13.40\n",
       "175    13.27\n",
       "176    13.17\n",
       "177    14.13\n",
       "Name: alcohol, Length: 178, dtype: float64"
      ]
     },
     "execution_count": 45,
     "metadata": {},
     "output_type": "execute_result"
    }
   ],
   "source": [
    "# extract the 'alcohol' variable\n",
    "dependent = df['alcohol']\n",
    "dependent"
   ]
  },
  {
   "cell_type": "code",
   "execution_count": 46,
   "id": "c1f635e0-4f3c-4117-98eb-e76742953d8f",
   "metadata": {},
   "outputs": [
    {
     "data": {
      "text/plain": [
       "count    178.000000\n",
       "mean      13.000618\n",
       "std        0.811827\n",
       "min       11.030000\n",
       "25%       12.362500\n",
       "50%       13.050000\n",
       "75%       13.677500\n",
       "max       14.830000\n",
       "Name: alcohol, dtype: float64"
      ]
     },
     "execution_count": 46,
     "metadata": {},
     "output_type": "execute_result"
    }
   ],
   "source": [
    "dependent.describe()"
   ]
  },
  {
   "cell_type": "markdown",
   "id": "661c2d2b-fc92-4961-8888-ad0ddd3fc8fe",
   "metadata": {},
   "source": [
    "**PASS:** All of the values are numbers on a sclae so fairly clear it satifies this assumption."
   ]
  },
  {
   "cell_type": "markdown",
   "id": "49e1b756-214d-4bb7-9aba-285b61524ee3",
   "metadata": {},
   "source": [
    "<br>\n",
    "\n",
    "### Assumption 2: Independent variable"
   ]
  },
  {
   "cell_type": "markdown",
   "id": "099fbc72-05a9-4c18-9bd2-acb8d1e4cf7d",
   "metadata": {},
   "source": [
    ">\"Your independent variable should consist of two or more categorical, independent groups. Typically, a one-way ANOVA is used when you have three or more categorical, independent groups.\""
   ]
  },
  {
   "cell_type": "markdown",
   "id": "c08e32e1-b30a-4c4d-820c-874f53d46435",
   "metadata": {
    "tags": []
   },
   "source": [
    "We are going to use 'wine_name' as the independent variable. Because they are named using numbers, we are going to have some trouble further down the line! The function **dtypes** confirms the data types."
   ]
  },
  {
   "cell_type": "code",
   "execution_count": 79,
   "id": "4e59c7b7-a491-402f-826e-482f023a9492",
   "metadata": {},
   "outputs": [
    {
     "data": {
      "text/plain": [
       "wine_name                int64\n",
       "alcohol                float64\n",
       "malicAcid              float64\n",
       "ash                    float64\n",
       "ashalcalinity          float64\n",
       "magnesium                int64\n",
       "totalPhenols           float64\n",
       "flavanoids             float64\n",
       "nonFlavanoidPhenols    float64\n",
       "proanthocyanins        float64\n",
       "colorIntensity         float64\n",
       "hue                    float64\n",
       "od280_od315            float64\n",
       "proline                  int64\n",
       "dtype: object"
      ]
     },
     "execution_count": 79,
     "metadata": {},
     "output_type": "execute_result"
    }
   ],
   "source": [
    "# return data types for each variable\n",
    "df.dtypes"
   ]
  },
  {
   "cell_type": "markdown",
   "id": "18f794e7-514f-4387-a39e-09b7ea1d2aad",
   "metadata": {},
   "source": [
    "As the data type for wine_name is int64, the following code converts that to a string."
   ]
  },
  {
   "cell_type": "code",
   "execution_count": 80,
   "id": "58946171-53f1-49f4-9650-a069ad80ab99",
   "metadata": {},
   "outputs": [],
   "source": [
    "# convert wine name to a string - https://datacarpentry.org/python-ecology-lesson/04-data-types-and-format/\n",
    "df['wine_name'] = df['wine_name'].astype('str')"
   ]
  },
  {
   "cell_type": "code",
   "execution_count": 83,
   "id": "f15088b2-27c3-423f-b2a8-c7841c5388e7",
   "metadata": {},
   "outputs": [
    {
     "data": {
      "text/plain": [
       "dtype('O')"
      ]
     },
     "execution_count": 83,
     "metadata": {},
     "output_type": "execute_result"
    }
   ],
   "source": [
    "# confirm the data type\n",
    "df['wine_name'].dtype"
   ]
  },
  {
   "cell_type": "markdown",
   "id": "928d328c-92b7-461d-aba3-ed30118c57cd",
   "metadata": {},
   "source": [
    "**PASS:** we have three independent variables to test"
   ]
  },
  {
   "cell_type": "markdown",
   "id": "ee8b184a-a6f8-40d7-9720-a2696937e4ca",
   "metadata": {},
   "source": [
    "<br>\n",
    "\n",
    "### Assumption 3: Independence of observations"
   ]
  },
  {
   "cell_type": "markdown",
   "id": "10456a55-fa97-424b-91cd-f9c93a999f0e",
   "metadata": {},
   "source": [
    ">\"You should have independence of observations, which means that there is no relationship between the observations in each group or between the groups themselves. For example, there must be different participants in each group with no participant being in more than one group. This is more of a study design issue than something you can test for, but it is an important assumption of the one-way ANOVA.\""
   ]
  },
  {
   "cell_type": "markdown",
   "id": "7ddb9267-eb1e-40cf-bcb5-6c899321b5e1",
   "metadata": {},
   "source": [
    "We had no involvement in the collection of this data but it seems to fulfull this criteria. so **PASS** "
   ]
  },
  {
   "cell_type": "markdown",
   "id": "d6a20c17-c7d8-4b8b-9037-4796065c446c",
   "metadata": {},
   "source": [
    "<br>\n",
    "\n",
    "### Assumption 4: Outliers"
   ]
  },
  {
   "cell_type": "markdown",
   "id": "568feb1c-432a-439b-90fd-5230b19d3b3f",
   "metadata": {},
   "source": [
    ">\"There should be no significant outliers\""
   ]
  },
  {
   "cell_type": "markdown",
   "id": "ab556c9e-dae8-4cb1-8920-2ad028710a45",
   "metadata": {},
   "source": [
    "We will use a boxplot to see if there are any outliers."
   ]
  },
  {
   "cell_type": "code",
   "execution_count": 40,
   "id": "31bb6a0c-1fe1-467e-b6f8-75219d859c74",
   "metadata": {},
   "outputs": [
    {
     "data": {
      "text/plain": [
       "<AxesSubplot:xlabel='alcohol', ylabel='wine_name'>"
      ]
     },
     "execution_count": 40,
     "metadata": {},
     "output_type": "execute_result"
    },
    {
     "data": {
      "image/png": "[encoded data removed]",
      "text/plain": [
       "<Figure size 432x288 with 1 Axes>"
      ]
     },
     "metadata": {
      "needs_background": "light"
     },
     "output_type": "display_data"
    }
   ],
   "source": [
    "# https://seaborn.pydata.org/generated/seaborn.boxplot.html\n",
    "sns.boxplot(x=dependent, y=independent)"
   ]
  },
  {
   "cell_type": "markdown",
   "id": "99bc841e-c414-4e87-9ed0-6a359278e396",
   "metadata": {},
   "source": [
    "Looks like we have a few outliers in wine 2! May be an issue but we'll carry on for now."
   ]
  },
  {
   "cell_type": "markdown",
   "id": "27748276-0836-4c44-9606-4bc1ec2d506f",
   "metadata": {},
   "source": [
    "<br>\n",
    "\n",
    "### Assumption 5: Normality  "
   ]
  },
  {
   "cell_type": "markdown",
   "id": "f47dac9c-e734-448b-b0cf-3f22656839c5",
   "metadata": {},
   "source": [
    ">\"Your dependent variable should be approximately normally distributed for each category of the independent variable. We talk about the one-way ANOVA only requiring approximately normal data because it is quite \"robust\" to violations of normality, meaning that assumption can be a little violated and still provide valid results.\""
   ]
  },
  {
   "cell_type": "markdown",
   "id": "71051383-884a-4729-adcb-ebde250f491d",
   "metadata": {},
   "source": [
    "We use seaborn create a KDE plot to visualise the normality or otherwise."
   ]
  },
  {
   "cell_type": "code",
   "execution_count": 87,
   "id": "3a3078a2-9985-410a-9977-0e9cbeb0c185",
   "metadata": {},
   "outputs": [
    {
     "data": {
      "text/plain": [
       "<seaborn.axisgrid.FacetGrid at 0x7f8437c3ee50>"
      ]
     },
     "execution_count": 87,
     "metadata": {},
     "output_type": "execute_result"
    },
    {
     "data": {
      "image/png": "[encoded data removed]",
      "text/plain": [
       "<Figure size 424.75x360 with 1 Axes>"
      ]
     },
     "metadata": {
      "needs_background": "light"
     },
     "output_type": "display_data"
    }
   ],
   "source": [
    "# KDEs of the three categories.\n",
    "sns.displot(x=dependent, hue=independent, kind=\"kde\")"
   ]
  },
  {
   "cell_type": "markdown",
   "id": "91019017-09af-4520-8cec-4bde8561e60e",
   "metadata": {},
   "source": [
    "They all look roughly normal, but we can use a **shapiro-wilk** test to get a clearer idea. https://docs.scipy.org/doc/scipy/reference/generated/scipy.stats.shapiro.html  \n",
    "https://statistics.laerd.com/spss-tutorials/testing-for-normality-using-spss-statistics.php  "
   ]
  },
  {
   "cell_type": "code",
   "execution_count": 92,
   "id": "b52d911a-b4e9-4711-8e5c-c48b74d3480b",
   "metadata": {},
   "outputs": [
    {
     "data": {
      "text/plain": [
       "ShapiroResult(statistic=0.9808937311172485, pvalue=0.47905755043029785)"
      ]
     },
     "execution_count": 92,
     "metadata": {},
     "output_type": "execute_result"
    }
   ],
   "source": [
    "# shapiro-wilk test on wine 1\n",
    "ss.shapiro(dependent[independent == '1'])"
   ]
  },
  {
   "cell_type": "code",
   "execution_count": 93,
   "id": "6c794c77-7ab7-4616-b8c9-f7ec6716f76e",
   "metadata": {},
   "outputs": [
    {
     "data": {
      "text/plain": [
       "ShapiroResult(statistic=0.9720516800880432, pvalue=0.11396162211894989)"
      ]
     },
     "execution_count": 93,
     "metadata": {},
     "output_type": "execute_result"
    }
   ],
   "source": [
    "# shapiro-wilk test on wine 2\n",
    "ss.shapiro(dependent[independent == '2'])"
   ]
  },
  {
   "cell_type": "code",
   "execution_count": 94,
   "id": "232cef3a-bee4-4172-aebb-d156b57dfb7b",
   "metadata": {},
   "outputs": [
    {
     "data": {
      "text/plain": [
       "ShapiroResult(statistic=0.981467604637146, pvalue=0.6408376097679138)"
      ]
     },
     "execution_count": 94,
     "metadata": {},
     "output_type": "execute_result"
    }
   ],
   "source": [
    "# shapiro-wilk test on wine 3\n",
    "ss.shapiro(dependent[independent == '3'])"
   ]
  },
  {
   "cell_type": "markdown",
   "id": "b4976b17-dc19-429d-9725-1e8d0e833a76",
   "metadata": {},
   "source": [
    "If the pvalue is above 0.05 we can reject the null hypothesis. So **PASS**."
   ]
  },
  {
   "cell_type": "markdown",
   "id": "2f59f206-ffaa-4e2e-832a-2458a081817d",
   "metadata": {},
   "source": [
    "<br>\n",
    "\n",
    "### Assumption 6: Homogeneity of Variances  "
   ]
  },
  {
   "cell_type": "markdown",
   "id": "bf88236e-c7af-411d-a2b2-16e05ef66e5d",
   "metadata": {
    "tags": []
   },
   "source": [
    ">\"There needs to be homogeneity of variances. You can test this assumption ... using Levene's test for homogeneity of variances.\""
   ]
  },
  {
   "cell_type": "markdown",
   "id": "75412c2a-d656-40ff-bb1c-f3de329ca9cb",
   "metadata": {},
   "source": [
    "We use the built-in **levene()** function to test for variances - https://docs.scipy.org/doc/scipy/reference/generated/scipy.stats.levene.html"
   ]
  },
  {
   "cell_type": "code",
   "execution_count": 12,
   "id": "7519be7c-3a36-4cc5-9578-1b2f37226e0d",
   "metadata": {},
   "outputs": [
    {
     "data": {
      "text/plain": [
       "LeveneResult(statistic=0.5997889815519192, pvalue=0.5500519055097621)"
      ]
     },
     "execution_count": 12,
     "metadata": {},
     "output_type": "execute_result"
    }
   ],
   "source": [
    "# Test for equal variances.\n",
    "ss.levene(\n",
    "    dependent[independent == 1],\n",
    "    dependent[independent == 2],\n",
    "    dependent[independent == 3]\n",
    ")"
   ]
  },
  {
   "cell_type": "markdown",
   "id": "68fa3644-82cd-4be0-a9c9-5466d74b2fca",
   "metadata": {},
   "source": [
    "We're above 0.05 so we can reject the null hypothesis. So **PASS**."
   ]
  },
  {
   "cell_type": "markdown",
   "id": "09950995-e402-48d6-aa91-04a4083dc8ae",
   "metadata": {},
   "source": [
    "<br>\n",
    "\n",
    "## One-way ANOVA"
   ]
  },
  {
   "cell_type": "markdown",
   "id": "3cf62bf9-3f90-4028-9030-c6c2b2004fa3",
   "metadata": {},
   "source": [
    "Although the reslts of assumption 4 with the outliers looks a bit shakey we'll continue with the test. The functions for carrying this out in scipy.stats is **f_oneway()**. \n",
    "https://docs.scipy.org/doc/scipy/reference/generated/scipy.stats.f_oneway.html\n",
    "\n",
    "We pass each of the independent variables into the functions."
   ]
  },
  {
   "cell_type": "code",
   "execution_count": 96,
   "id": "feec16a9-afd7-4530-87f2-ec9f4004e86e",
   "metadata": {},
   "outputs": [
    {
     "data": {
      "text/plain": [
       "F_onewayResult(statistic=135.07762424279912, pvalue=3.319503795619655e-36)"
      ]
     },
     "execution_count": 96,
     "metadata": {},
     "output_type": "execute_result"
    }
   ],
   "source": [
    "# ANOVA.\n",
    "ss.f_oneway(\n",
    "    dependent[independent == '1'],\n",
    "    dependent[independent == '2'],\n",
    "    dependent[independent == '3']\n",
    ")"
   ]
  },
  {
   "cell_type": "markdown",
   "id": "4430f094-dbc8-492c-b41c-c998590b4bda",
   "metadata": {},
   "source": [
    "Conclusion: as the pvalue is miniscule we can conlude that the mean alcohol level of **at least one** of the wines is different. To find out which one or ones are different we need to carry out a **post hoc** test."
   ]
  },
  {
   "cell_type": "markdown",
   "id": "7c29e4ae-cd71-497d-9f2d-e89a2f6a843a",
   "metadata": {},
   "source": [
    "<br>\n",
    "\n",
    "### Tukey Post Hoc test"
   ]
  },
  {
   "cell_type": "code",
   "execution_count": null,
   "id": "67893b1c-d606-4e96-9972-275b25ddd00c",
   "metadata": {},
   "outputs": [],
   "source": []
  },
  {
   "cell_type": "code",
   "execution_count": null,
   "id": "17b596fd-97f2-4c5b-ab68-4f8fa62ca16a",
   "metadata": {},
   "outputs": [],
   "source": []
  },
  {
   "cell_type": "code",
   "execution_count": null,
   "id": "76f55b6e-234c-45da-86a2-ad426887ebdd",
   "metadata": {},
   "outputs": [],
   "source": []
  },
  {
   "cell_type": "code",
   "execution_count": null,
   "id": "3b21a761-fd92-463e-b04d-0a45d8300053",
   "metadata": {},
   "outputs": [],
   "source": []
  },
  {
   "cell_type": "markdown",
   "id": "52e184aa-e501-4626-9ed1-127566c02581",
   "metadata": {},
   "source": [
    "<br>\n",
    "\n",
    "## REFERENCES\n",
    "---"
   ]
  },
  {
   "cell_type": "markdown",
   "id": "b878ca06-32d7-48d5-9d4c-73db01279d6a",
   "metadata": {},
   "source": [
    "https://docs.scipy.org/doc/scipy/reference/stats.html  \n",
    "https://docs.scipy.org/doc/scipy/reference/stats.html#module-scipy.stats\n",
    "\n",
    "https://www.tutorialspoint.com/scipy/scipy_stats.htm\n",
    "\n",
    "https://realpython.com/python-statistics/"
   ]
  },
  {
   "cell_type": "markdown",
   "id": "cf36eb17-7b49-495e-92a4-4c3e545bbd3f",
   "metadata": {},
   "source": [
    "# END"
   ]
  },
  {
   "cell_type": "code",
   "execution_count": null,
   "id": "d27e2d82-8c63-4ac1-bad1-2acce99cf506",
   "metadata": {},
   "outputs": [],
   "source": []
  }
 ],
 "metadata": {
  "kernelspec": {
   "display_name": "Python 3",
   "language": "python",
   "name": "python3"
  },
  "language_info": {
   "codemirror_mode": {
    "name": "ipython",
    "version": 3
   },
   "file_extension": ".py",
   "mimetype": "text/x-python",
   "name": "python",
   "nbconvert_exporter": "python",
   "pygments_lexer": "ipython3",
   "version": "3.8.8"
  }
 },
 "nbformat": 4,
 "nbformat_minor": 5
}
